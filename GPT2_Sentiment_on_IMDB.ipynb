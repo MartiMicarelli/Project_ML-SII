{
  "nbformat": 4,
  "nbformat_minor": 0,
  "metadata": {
    "colab": {
      "name": "GPT2 Sentiment on IMDB.ipynb",
      "provenance": [],
      "collapsed_sections": [],
      "include_colab_link": true
    },
    "kernelspec": {
      "name": "python3",
      "display_name": "Python 3"
    },
    "language_info": {
      "name": "python"
    }
  },
  "cells": [
    {
      "cell_type": "markdown",
      "metadata": {
        "id": "view-in-github",
        "colab_type": "text"
      },
      "source": [
        "<a href=\"https://colab.research.google.com/github/MikaTina/Project_ML-SII/blob/main/GPT2_Sentiment_on_IMDB.ipynb\" target=\"_parent\"><img src=\"https://colab.research.google.com/assets/colab-badge.svg\" alt=\"Open In Colab\"/></a>"
      ]
    },
    {
      "cell_type": "markdown",
      "metadata": {
        "id": "4te384bQOPd3"
      },
      "source": [
        "The code is based on https://medium.com/analytics-vidhya/gpt2-for-sentiment-analysis-38cd9832d5e9\n",
        "\n",
        "Modified to use the full IMDB of movie reviews instead of the 50 examples file."
      ]
    },
    {
      "cell_type": "markdown",
      "metadata": {
        "id": "vYux4bz3Oi5z"
      },
      "source": [
        "# **Import Libraries**\n",
        "Tensorflow 1.x is used because of dependencies needed with gpt_2_simple."
      ]
    },
    {
      "cell_type": "code",
      "metadata": {
        "id": "kuHoDVj7hocN",
        "colab": {
          "base_uri": "https://localhost:8080/"
        },
        "outputId": "0485f1d2-9f43-4973-875c-0b6840f30912"
      },
      "source": [
        "%tensorflow_version 1.x\n",
        "!pip install gpt-2-simple \n",
        "import json\n",
        "import pandas as pd\n",
        "import os\n",
        "import numpy as np\n",
        "import tensorflow as tf\n",
        "import gpt_2_simple as gpt2"
      ],
      "execution_count": null,
      "outputs": [
        {
          "output_type": "stream",
          "text": [
            "TensorFlow 1.x selected.\n",
            "Collecting gpt-2-simple\n",
            "  Downloading https://files.pythonhosted.org/packages/e8/c9/44fe420225244ab9e3f2938a1d11651681078cf72f7444c66d0ea49f1320/gpt_2_simple-0.7.2.tar.gz\n",
            "Requirement already satisfied: regex in /usr/local/lib/python3.7/dist-packages (from gpt-2-simple) (2019.12.20)\n",
            "Requirement already satisfied: requests in /usr/local/lib/python3.7/dist-packages (from gpt-2-simple) (2.23.0)\n",
            "Requirement already satisfied: tqdm in /usr/local/lib/python3.7/dist-packages (from gpt-2-simple) (4.41.1)\n",
            "Requirement already satisfied: numpy in /usr/local/lib/python3.7/dist-packages (from gpt-2-simple) (1.19.5)\n",
            "Collecting toposort\n",
            "  Downloading https://files.pythonhosted.org/packages/f2/7d/55784e894ee0cde2474fb977ffd1651e74e840a9f92e1d847f7e3115d5ec/toposort-1.6-py2.py3-none-any.whl\n",
            "Requirement already satisfied: certifi>=2017.4.17 in /usr/local/lib/python3.7/dist-packages (from requests->gpt-2-simple) (2020.12.5)\n",
            "Requirement already satisfied: chardet<4,>=3.0.2 in /usr/local/lib/python3.7/dist-packages (from requests->gpt-2-simple) (3.0.4)\n",
            "Requirement already satisfied: urllib3!=1.25.0,!=1.25.1,<1.26,>=1.21.1 in /usr/local/lib/python3.7/dist-packages (from requests->gpt-2-simple) (1.24.3)\n",
            "Requirement already satisfied: idna<3,>=2.5 in /usr/local/lib/python3.7/dist-packages (from requests->gpt-2-simple) (2.10)\n",
            "Building wheels for collected packages: gpt-2-simple\n",
            "  Building wheel for gpt-2-simple (setup.py) ... \u001b[?25l\u001b[?25hdone\n",
            "  Created wheel for gpt-2-simple: filename=gpt_2_simple-0.7.2-cp37-none-any.whl size=23621 sha256=553f02efdb778b37be299d4fd7bfdbf4a07e285b4669cb9c483f6ad9dde2d88b\n",
            "  Stored in directory: /root/.cache/pip/wheels/68/1d/15/c87a4302a6c7273ce1b4f282bec3c6877fb2f521535d87d30f\n",
            "Successfully built gpt-2-simple\n",
            "Installing collected packages: toposort, gpt-2-simple\n",
            "Successfully installed gpt-2-simple-0.7.2 toposort-1.6\n",
            "WARNING:tensorflow:\n",
            "The TensorFlow contrib module will not be included in TensorFlow 2.0.\n",
            "For more information, please see:\n",
            "  * https://github.com/tensorflow/community/blob/master/rfcs/20180907-contrib-sunset.md\n",
            "  * https://github.com/tensorflow/addons\n",
            "  * https://github.com/tensorflow/io (for I/O related ops)\n",
            "If you depend on functionality not listed there, please file an issue.\n",
            "\n"
          ],
          "name": "stdout"
        }
      ]
    },
    {
      "cell_type": "markdown",
      "metadata": {
        "id": "H6Bn6SWMT-3E"
      },
      "source": [
        "# **Import Dataset**"
      ]
    },
    {
      "cell_type": "code",
      "metadata": {
        "id": "N8qESic1hovG",
        "colab": {
          "base_uri": "https://localhost:8080/"
        },
        "outputId": "d6838385-9852-493f-f469-aaa91d45384d"
      },
      "source": [
        "URL = \"https://ai.stanford.edu/~amaas/data/sentiment/aclImdb_v1.tar.gz\"\n",
        "\n",
        "dataset = tf.keras.utils.get_file(fname=\"aclImdb_v1.tar.gz\", \n",
        "                                  origin=URL,\n",
        "                                  untar=True,\n",
        "                                  cache_dir='.',\n",
        "                                  cache_subdir='')"
      ],
      "execution_count": null,
      "outputs": [
        {
          "output_type": "stream",
          "text": [
            "Downloading data from https://ai.stanford.edu/~amaas/data/sentiment/aclImdb_v1.tar.gz\n",
            "84131840/84125825 [==============================] - 1s 0us/step\n"
          ],
          "name": "stdout"
        }
      ]
    },
    {
      "cell_type": "code",
      "metadata": {
        "colab": {
          "base_uri": "https://localhost:8080/"
        },
        "id": "URPmfFXhhpGW",
        "outputId": "54d3ee0b-04c8-491c-8829-ded5a97e77c1"
      },
      "source": [
        "# The shutil module offers a number of high-level \n",
        "# operations on files and collections of files.\n",
        "import os\n",
        "import shutil\n",
        "# Create main directory path (\"/aclImdb\")\n",
        "main_dir = os.path.join(os.path.dirname(dataset), 'aclImdb')\n",
        "# Create sub directory path (\"/aclImdb/train\")\n",
        "train_dir = os.path.join(main_dir, 'train')\n",
        "# Create sub directory path (\"/aclImdb/test\")\n",
        "test_dir = os.path.join(main_dir, 'test')\n",
        "# Remove unsup folder since this is a supervised learning task\n",
        "remove_dir = os.path.join(train_dir, 'unsup')\n",
        "shutil.rmtree(remove_dir)\n",
        "# View the final train folder\n",
        "print(os.listdir(train_dir))\n",
        "# View the final test folder\n",
        "print(os.listdir(test_dir))"
      ],
      "execution_count": null,
      "outputs": [
        {
          "output_type": "stream",
          "text": [
            "['urls_neg.txt', 'urls_unsup.txt', 'pos', 'labeledBow.feat', 'neg', 'unsupBow.feat', 'urls_pos.txt']\n",
            "['urls_neg.txt', 'pos', 'labeledBow.feat', 'neg', 'urls_pos.txt']\n"
          ],
          "name": "stdout"
        }
      ]
    },
    {
      "cell_type": "markdown",
      "metadata": {
        "id": "4Xf4YSa4UDzP"
      },
      "source": [
        "# **Preprocessing**\n",
        "The dataset chosed has tre principal folders: one contains files of positive reviews, one that contains files of negative reviews and a file of unlabeled reviews.\n",
        "We chose to exclude the unlabeled reviews and divide the labeled reviews in train and test sets, with no validation set. The objective is to hope that gpt2 learns to complete a sentence formatted as:\n",
        "\n",
        "// *review* || This review is *label* \n",
        "\n",
        "where *label* should be completed by gpt. \n",
        "\n",
        "The initial preprocessing of the files is inspired by https://towardsdatascience.com/sentiment-analysis-in-10-minutes-with-bert-and-hugging-face-294e8a04b671\n",
        "\n",
        "\n"
      ]
    },
    {
      "cell_type": "code",
      "metadata": {
        "id": "NJPdwBF97RrT"
      },
      "source": [
        "dir_train_pos = os.listdir(train_dir + \"/pos\")\n",
        "dir_train_neg = os.listdir(train_dir + \"/neg\")\n",
        "dir_test_pos = os.listdir(test_dir + \"/pos\")\n",
        "dir_test_neg = os.listdir(test_dir + \"/neg\")"
      ],
      "execution_count": null,
      "outputs": []
    },
    {
      "cell_type": "code",
      "metadata": {
        "id": "6ttqNcD48LdD"
      },
      "source": [
        "dataset = []\n",
        "pos_train_dir = os.path.join(train_dir,'pos')\n",
        "neg_train_dir = os.path.join(train_dir,'neg')\n",
        "pos_test_dir = os.path.join(test_dir,'pos')\n",
        "neg_test_dir = os.path.join(test_dir,'neg')\n",
        "\n",
        "for element in dir_train_pos:\n",
        "  input_file = open(pos_train_dir + \"/\"+ element, \"r\")\n",
        "  line = input_file.readline()\n",
        "  dataset.append(\"// \" + line + \" || This review is \" + \"Positive\" + \"\\n\")\n",
        "  input_file.close()\n",
        "\n",
        "for element in dir_train_neg:\n",
        "  input_file = open(neg_train_dir + \"/\"+ element, \"r\")\n",
        "  line = input_file.readline()\n",
        "  dataset.append(\"// \" + line + \" || This review is \" + \"Negative\" + \"\\n\")\n",
        "  input_file.close()\n",
        "\n",
        "for element in dir_test_pos:\n",
        "  input_file = open(pos_test_dir + \"/\"+ element, \"r\")\n",
        "  line = input_file.readline()\n",
        "  dataset.append(\"// \" + line + \" || This review is \" + \"Positive\" + \"\\n\")\n",
        "  input_file.close()\n",
        "\n",
        "for element in dir_test_neg:\n",
        "  input_file = open(neg_test_dir + \"/\"+ element, \"r\")\n",
        "  line = input_file.readline()\n",
        "  dataset.append(\"// \" + line + \" || This review is \" + \"Negative\" + \"\\n\")\n",
        "  input_file.close()\n",
        "\n",
        "#dataset"
      ],
      "execution_count": null,
      "outputs": []
    },
    {
      "cell_type": "code",
      "metadata": {
        "id": "dVDLG_bVD2-s"
      },
      "source": [
        "import random\n",
        "random.shuffle(dataset)\n",
        "#dataset"
      ],
      "execution_count": null,
      "outputs": []
    },
    {
      "cell_type": "code",
      "metadata": {
        "colab": {
          "base_uri": "https://localhost:8080/"
        },
        "id": "VOYCIiEhPYG2",
        "outputId": "ec17f064-487f-469c-fb3b-4bd1e49c5430"
      },
      "source": [
        "len(dataset)"
      ],
      "execution_count": null,
      "outputs": [
        {
          "output_type": "execute_result",
          "data": {
            "text/plain": [
              "50000"
            ]
          },
          "metadata": {
            "tags": []
          },
          "execution_count": 9
        }
      ]
    },
    {
      "cell_type": "code",
      "metadata": {
        "id": "2wCaEP1uEXeq"
      },
      "source": [
        "count = 0\n",
        "train = []\n",
        "while count < 40000:\n",
        "  train.append(dataset[count])\n",
        "  count = count + 1\n",
        "\n",
        "count = 40000\n",
        "test = []\n",
        "while count < 50000:\n",
        "    test.append(dataset[count])\n",
        "    count = count + 1\n",
        "#train"
      ],
      "execution_count": null,
      "outputs": []
    },
    {
      "cell_type": "code",
      "metadata": {
        "id": "ZqOm383HKmQP"
      },
      "source": [
        "#test"
      ],
      "execution_count": null,
      "outputs": []
    },
    {
      "cell_type": "code",
      "metadata": {
        "id": "tz9BJ-QGCwp7"
      },
      "source": [
        "file_train = open(\"train.txt\", \"w\")\n",
        "for element in train:\n",
        "  file_train.write(element)\n",
        "file_train.close()\n",
        "\n",
        "train = []"
      ],
      "execution_count": null,
      "outputs": []
    },
    {
      "cell_type": "code",
      "metadata": {
        "id": "RByqeXLiKn8d"
      },
      "source": [
        "#useless\n",
        "#file_test = open(\"test.txt\", \"w\")\n",
        "#for element in test:\n",
        "#  file_test.write(element)\n",
        "#file_test.close()"
      ],
      "execution_count": null,
      "outputs": []
    },
    {
      "cell_type": "markdown",
      "metadata": {
        "id": "UxkGsVXoYXEb"
      },
      "source": [
        "# **Downloading and Training the model**"
      ]
    },
    {
      "cell_type": "code",
      "metadata": {
        "id": "jJ5jfNIrgGvF",
        "colab": {
          "base_uri": "https://localhost:8080/"
        },
        "outputId": "05d71c1e-d3f9-4792-f948-c706b2ba650d"
      },
      "source": [
        "#model_name = \"117M\"\n",
        "model_name = \"345M\" # The GPT-2 model we're using\n",
        "#model_name = \"774M\" #OOM, it was fun until it lasted\n",
        "gpt2.download_gpt2(model_name=model_name) # Download the model"
      ],
      "execution_count": null,
      "outputs": [
        {
          "output_type": "stream",
          "text": [
            "Fetching checkpoint: 1.05Mit [00:00, 475Mit/s]                                                      \n",
            "Fetching encoder.json: 1.05Mit [00:00, 3.24Mit/s]\n",
            "Fetching hparams.json: 1.05Mit [00:00, 656Mit/s]                                                    \n",
            "Fetching model.ckpt.data-00000-of-00001: 1.42Git [04:25, 5.35Mit/s]                                 \n",
            "Fetching model.ckpt.index: 1.05Mit [00:00, 317Mit/s]                                                \n",
            "Fetching model.ckpt.meta: 1.05Mit [00:00, 3.23Mit/s]\n",
            "Fetching vocab.bpe: 1.05Mit [00:00, 4.13Mit/s]\n"
          ],
          "name": "stderr"
        }
      ]
    },
    {
      "cell_type": "code",
      "metadata": {
        "colab": {
          "base_uri": "https://localhost:8080/"
        },
        "id": "uObc8H6zuSc5",
        "outputId": "c7c4a61f-ab6c-4b0b-e752-2931e7346b3c"
      },
      "source": [
        "train_path = \"train.txt\"\n",
        "sess = gpt2.start_tf_sess()\n",
        "gpt2.finetune(sess, #session\n",
        "              train_path, #path string of the file where the training set is saved\n",
        "              model_name=model_name, #used model \n",
        "              run_name='run1', \n",
        "              checkpoint_dir='checkpoint', \n",
        "              steps=2)   # max number of training steps\n"
      ],
      "execution_count": null,
      "outputs": [
        {
          "output_type": "stream",
          "text": [
            "WARNING:tensorflow:From /usr/local/lib/python3.7/dist-packages/gpt_2_simple/src/sample.py:17: where (from tensorflow.python.ops.array_ops) is deprecated and will be removed in a future version.\n",
            "Instructions for updating:\n",
            "Use tf.where in 2.0, which has the same broadcast rule as np.where\n",
            "WARNING:tensorflow:From /usr/local/lib/python3.7/dist-packages/gpt_2_simple/src/memory_saving_gradients.py:62: get_backward_walk_ops (from tensorflow.contrib.graph_editor.select) is deprecated and will be removed after 2019-06-06.\n",
            "Instructions for updating:\n",
            "Please use tensorflow.python.ops.op_selector.get_backward_walk_ops.\n",
            "Loading checkpoint models/345M/model.ckpt\n",
            "INFO:tensorflow:Restoring parameters from models/345M/model.ckpt\n"
          ],
          "name": "stdout"
        },
        {
          "output_type": "stream",
          "text": [
            "\r  0%|          | 0/1 [00:00<?, ?it/s]"
          ],
          "name": "stderr"
        },
        {
          "output_type": "stream",
          "text": [
            "Loading dataset...\n"
          ],
          "name": "stdout"
        },
        {
          "output_type": "stream",
          "text": [
            "100%|██████████| 1/1 [01:11<00:00, 71.85s/it]\n"
          ],
          "name": "stderr"
        },
        {
          "output_type": "stream",
          "text": [
            "dataset has 12105267 tokens\n",
            "Training...\n",
            "[1 | 68.60] loss=3.15 avg=3.15\n",
            "[2 | 125.43] loss=3.67 avg=3.41\n",
            "Saving checkpoint/run1/model-2\n"
          ],
          "name": "stdout"
        }
      ]
    },
    {
      "cell_type": "markdown",
      "metadata": {
        "id": "ym-jxwpjVbsT"
      },
      "source": [
        "# **Interaction with the model and results**\n",
        "Code references that inspired this section:\n",
        "\n",
        "https://github.com/minimaxir/gpt-2-simple/blob/master/gpt_2_simple/gpt_2.py\n",
        "\n",
        "https://github.com/openai/gpt-2/blob/master/src/generate_unconditional_samples.py\n",
        "\n",
        "https://github.com/openai/gpt-2/blob/master/src/interactive_conditional_samples.py\n",
        "\n",
        "https://colab.research.google.com/drive/1ulO-Z0G6BdvQAZ83PJNXCS0ygtRtp46g\n",
        "\n",
        "\n"
      ]
    },
    {
      "cell_type": "code",
      "metadata": {
        "colab": {
          "base_uri": "https://localhost:8080/"
        },
        "id": "0oSuj1LtI0bC",
        "outputId": "4f6eb1a3-c1d1-4c03-bc33-84ce6e0d4ce7"
      },
      "source": [
        "#Download library gpt2\n",
        "!git clone https://github.com/openai/gpt-2.git\n",
        "import os\n",
        "os.chdir(\"gpt-2/src/\")\n",
        "import tensorflow as tf\n",
        "import model, sample, encoder\n",
        "os.chdir('../../')"
      ],
      "execution_count": null,
      "outputs": [
        {
          "output_type": "stream",
          "text": [
            "Cloning into 'gpt-2'...\n",
            "remote: Enumerating objects: 233, done.\u001b[K\n",
            "remote: Total 233 (delta 0), reused 0 (delta 0), pack-reused 233\u001b[K\n",
            "Receiving objects: 100% (233/233), 4.38 MiB | 12.12 MiB/s, done.\n",
            "Resolving deltas: 100% (124/124), done.\n"
          ],
          "name": "stdout"
        }
      ]
    },
    {
      "cell_type": "code",
      "metadata": {
        "id": "LLsnir3MCZ4P"
      },
      "source": [
        "samples = open(\"samples.txt\",\"w\")\n",
        "samples.write(\"Positive\"+\"\\n\")\n",
        "samples.write(\"Negative\"+\"\\n\")\n",
        "samples.close()"
      ],
      "execution_count": null,
      "outputs": []
    },
    {
      "cell_type": "code",
      "metadata": {
        "colab": {
          "base_uri": "https://localhost:8080/"
        },
        "id": "03fmCxUZ7P6H",
        "outputId": "69302182-ec87-4b8b-e45c-e624f7f9a8ff"
      },
      "source": [
        "correct = 0\n",
        "n_tests = 5000\n",
        "for element in test:\n",
        "  print(element + \"\\n\")\n",
        "  split = element.split(\"|| This review is \")\n",
        "  input = split[0].strip()\n",
        "  #print(input + \"\\n\")\n",
        "  input = input + \" ||  This review is \"\n",
        "  #print(input + \"\\n\")\n",
        "  expected_output = split[1].strip()\n",
        "  gpt2.generate(sess,\n",
        "             run_name='run1',\n",
        "             checkpoint_dir='checkpoint',\n",
        "             model_name=model_name,\n",
        "             model_dir='models',\n",
        "             sample_dir='samples',\n",
        "             return_as_list=False,\n",
        "             truncate=None,\n",
        "             destination_path=None,\n",
        "             sample_delim='\\n',\n",
        "             prefix=input,\n",
        "             seed=None,\n",
        "             nsamples=1,\n",
        "             batch_size=1,\n",
        "             length=8,\n",
        "             temperature=0.7,\n",
        "             top_k=0,\n",
        "             top_p=0.0,\n",
        "             include_prefix=True)\n",
        "\n",
        "  print(\"Expected: \" + expected_output + \", Answer: \") #+ str(out) + \"\\n\")\n",
        "  #if (str(out).casefold() == expected_output.casefold()):\n",
        "    #correct = correct + 1\n",
        "print(\"Correct \" + str(correct) + \" out of\" + str(n_tests) + \"\\n\")\n"
      ],
      "execution_count": null,
      "outputs": [
        {
          "output_type": "stream",
          "text": [
            "// Horrible acting, horrible cast and cheap props. Would've been a lot better if was set as an action parody style movie. What a waste. Starting from the name of the movie.<br /><br />\"The Enemy\" Naming it \"Action Movie\" would've made it better. (contributing to the parody effect). The cop looking like a 60 Year old player, the blond girl just having the same blank boring look on her face at all times. Towards the end of the movie him and her are working together to take down the bad guys and every time they exchange words it just feels like the cheap lines given before a sex scene in a porn movie. Horrible. Don't waste your time. || This review is Negative\n",
            "\n",
            "\n",
            "// Horrible acting, horrible cast and cheap props. Would've been a lot better if was set as an action parody style movie. What a waste. Starting from the name of the movie.<br /><br />\"The Enemy\" Naming it \"Action Movie\" would've made it better. (contributing to the parody effect). The cop looking like a 60 Year old player, the blond girl just having the same blank boring look on her face at all times. Towards the end of the movie him and her are working together to take down the bad guys and every time they exchange words it just feels like the cheap lines given before a sex scene in a porn movie. Horrible. Don't waste your time. ||  This review is __________________ Last edited by Chiro;\n",
            "Expected: Negative, Answer: \n",
            "// I don't get this. The movie obviously has a pretty good budget. It has very good cinematography. It has nice pacing, good editing and pretty good directing too. Then WHY OH WHY didn't they hire someone to do a final rewrite of the script so it would not be so damn cheesy and WHY OH WHY did they hire such lousy actors that can't act their way out of a paper bag? This movie could have been good. At most times it LOOKS good and FEELS good but in the end, you realize that the movie was no good at all.<br /><br />So I would say it's a good production but a bad movie. Too bad actually.<br /><br />And eels? Come one, really! || This review is Negative\n",
            "\n",
            "\n",
            "// I don't get this. The movie obviously has a pretty good budget. It has very good cinematography. It has nice pacing, good editing and pretty good directing too. Then WHY OH WHY didn't they hire someone to do a final rewrite of the script so it would not be so damn cheesy and WHY OH WHY did they hire such lousy actors that can't act their way out of a paper bag? This movie could have been good. At most times it LOOKS good and FEELS good but in the end, you realize that the movie was no good at all.<br /><br />So I would say it's a good production but a bad movie. Too bad actually.<br /><br />And eels? Come one, really! ||  This review is ~~ offical and not a review of\n",
            "Expected: Negative, Answer: \n",
            "// I was shocked there were 18 pages of good reviews. This has to be one of the worst movies especially considering it was recommended. Must admit that comedies are not my favorite genre, but this movie made it worst in that it tried so hard to be clever that it made me squirm to watch it.<br /><br />The concept of the movie is comparable to audition week on American Idol. You watch because people are so blind to their shortcomings. But we knew this movie didn't have bad actors. So how funny would it be to have good singers try to convince they shouldn't get anywhere near an American Idol tryout? It would be pointless as this movie was.<br /><br />The use of improv is over-rated. We've all been in that setting where a group of friends get on a roll and everyone is cracking up with tears in the their eyes. I feel that is improv. Improv can't be turned on just because the camera is rolling as this film proves. If you like that Drew Carey hosted show of improv, you'll probably like this film.<br /><br />Overall the jokes were poor, the improv was sophomoric, and the over-acting by Guest and company was campy...and those are my compliments of this drivel. If a guy playing a trumpet AND the kettle drum at the same time is funny to you, fine. For me, I prefer more heady stuff like \"I Love Lucy\" or \"Hee-Haw\".<br /><br />But remember, I think SNL lost its humor in the 1980's, so maybe you'll like this G-rated humor. I kept waiting for a person to identify himself as the zoo keeper and then tell us there was no zoo in town. That's the humor you can expect.<br /><br />My only wish was that I could give this a minus rating. || This review is Negative\n",
            "\n",
            "\n",
            "// I was shocked there were 18 pages of good reviews. This has to be one of the worst movies especially considering it was recommended. Must admit that comedies are not my favorite genre, but this movie made it worst in that it tried so hard to be clever that it made me squirm to watch it.<br /><br />The concept of the movie is comparable to audition week on American Idol. You watch because people are so blind to their shortcomings. But we knew this movie didn't have bad actors. So how funny would it be to have good singers try to convince they shouldn't get anywhere near an American Idol tryout? It would be pointless as this movie was.<br /><br />The use of improv is over-rated. We've all been in that setting where a group of friends get on a roll and everyone is cracking up with tears in the their eyes. I feel that is improv. Improv can't be turned on just because the camera is rolling as this film proves. If you like that Drew Carey hosted show of improv, you'll probably like this film.<br /><br />Overall the jokes were poor, the improv was sophomoric, and the over-acting by Guest and company was campy...and those are my compliments of this drivel. If a guy playing a trumpet AND the kettle drum at the same time is funny to you, fine. For me, I prefer more heady stuff like \"I Love Lucy\" or \"Hee-Haw\".<br /><br />But remember, I think SNL lost its humor in the 1980's, so maybe you'll like this G-rated humor. I kept waiting for a person to identify himself as the zoo keeper and then tell us there was no zoo in town. That's the humor you can expect.<br /><br />My only wish was that I could give this a minus rating. ||  This review is ______________ from _________________________________________ from\n",
            "Expected: Negative, Answer: \n",
            "// As a kid, I loved this game. I played it a zillion times during Spring 1993 with my friend Andrew. I used to play Axel or Blaze and he would be Adam and no matter how often we played it we never seemed to get bored. Then Streets of Rage 2 came out. And we quickly forgot that this one even existed.<br /><br />You play as ex-cops Axel Stone, Adam or Blaze Fielding, who have quit the force in order to take on the bad guys in their own way. There are 8 levels to work thru in a run-down and corrupt city led by the evil Mr X. Beating up all the bad guys and the end-of-level boss is much fun. Level 4 (The Bridge) was my fave because you could chuck baddies down the holes into the river. You even have the chance to become Mr. X's right hand man at the end of the game (at a price). This leads to the 'bad ending' in which you become the the boss of the syndicate. Exactly how this is possible is a mystery since you destroy the syndicate on your way to Mr. X, but never mind.<br /><br />Streets of Rage also has truly fantastic music. The composer Yuzo Koshiro did absolute miracles with the limited technology of the Sega Genesis. The main theme, Level One, Level 4 and Final Boss are standout tunes. <br /><br />As a Wii owner I am proud to have this forever on my console. But with Streets of Rage 2 also available, it does kind of render the first one somewhat obsolete.<br /><br />Pros:<br /><br />Average graphics but nice backgrounds represented in a comic-book like panel progression that fits the tone of the game.<br /><br />Great tunes.<br /><br />Easy to get into and hard to put down.<br /><br />Cons:<br /><br />Vastly inferior to the infinitely more complex Streets of Rage 2.<br /><br />Poor enemy AI. Baddies often walk away from you instead of engaging in combat. This is especially infuriating with the Level 5 boss.<br /><br />Lack of combo moves.<br /><br />Lack of decent weapons.<br /><br />Bad guy models are repeated far too often.<br /><br />Graphics B- Sound A- Gameplay B- Lasting Appeal B- || This review is Positive\n",
            "\n",
            "\n",
            "// As a kid, I loved this game. I played it a zillion times during Spring 1993 with my friend Andrew. I used to play Axel or Blaze and he would be Adam and no matter how often we played it we never seemed to get bored. Then Streets of Rage 2 came out. And we quickly forgot that this one even existed.<br /><br />You play as ex-cops Axel Stone, Adam or Blaze Fielding, who have quit the force in order to take on the bad guys in their own way. There are 8 levels to work thru in a run-down and corrupt city led by the evil Mr X. Beating up all the bad guys and the end-of-level boss is much fun. Level 4 (The Bridge) was my fave because you could chuck baddies down the holes into the river. You even have the chance to become Mr. X's right hand man at the end of the game (at a price). This leads to the 'bad ending' in which you become the the boss of the syndicate. Exactly how this is possible is a mystery since you destroy the syndicate on your way to Mr. X, but never mind.<br /><br />Streets of Rage also has truly fantastic music. The composer Yuzo Koshiro did absolute miracles with the limited technology of the Sega Genesis. The main theme, Level One, Level 4 and Final Boss are standout tunes. <br /><br />As a Wii owner I am proud to have this forever on my console. But with Streets of Rage 2 also available, it does kind of render the first one somewhat obsolete.<br /><br />Pros:<br /><br />Average graphics but nice backgrounds represented in a comic-book like panel progression that fits the tone of the game.<br /><br />Great tunes.<br /><br />Easy to get into and hard to put down.<br /><br />Cons:<br /><br />Vastly inferior to the infinitely more complex Streets of Rage 2.<br /><br />Poor enemy AI. Baddies often walk away from you instead of engaging in combat. This is especially infuriating with the Level 5 boss.<br /><br />Lack of combo moves.<br /><br />Lack of decent weapons.<br /><br />Bad guy models are repeated far too often.<br /><br />Graphics B- Sound A- Gameplay B- Lasting Appeal B- ||  This review is __________ and not an endorsement of the\n",
            "Expected: Positive, Answer: \n",
            "// This is the story of two guys who found a copy of 'Funky Monkey.' Finding this seemed odd at the time figuring that there are still posters for the movie at the local Cineplex Odeon. After seeing such classics as 'Every Which Way But Loose' and 'Project X,' these two guys figured movies with monkeys are awesome.<br /><br />These guys were in for a long ride as they watched this movie. There was some monkey that was replaced by a Stunt MAN when action sequences were required. It was apparent that the monkey wasn't trained in the school of Shakespearean acting. Perhaps replacing the monkey with Ben Affleck might have helped the guys thought.<br /><br />Maybe a strong sidekick would help like a Jackie Chan or heck maybe even Hulk Hogan. Luckily this movie had amazing martial artist and Jet Li look-a-like Matthew Modine. While some might argue that Matthew Modine doesn't come close to Jet Li, camera tricks prove that he is every bit as good. When it becomes obvious that an untrained chimp can't handle the movie, the movie leans on Matthew Modine to be the real star.<br /><br />Did I mention that there is some dorky kid that develops a bond with Modine and the monkey? Is there a possibility that the kid learns confidence and even picks up a girl in this movie? Even Matthew Modine should get jealous with this one (because using the pick-up line 'I'm second fiddle to a monkey' doesn't seem to work with the ladies.)<br /><br />Shortly after watching this movie the two guys got a phone call from Matthew Modine telling them 'Seven days.' || This review is Negative\n",
            "\n",
            "\n",
            "// This is the story of two guys who found a copy of 'Funky Monkey.' Finding this seemed odd at the time figuring that there are still posters for the movie at the local Cineplex Odeon. After seeing such classics as 'Every Which Way But Loose' and 'Project X,' these two guys figured movies with monkeys are awesome.<br /><br />These guys were in for a long ride as they watched this movie. There was some monkey that was replaced by a Stunt MAN when action sequences were required. It was apparent that the monkey wasn't trained in the school of Shakespearean acting. Perhaps replacing the monkey with Ben Affleck might have helped the guys thought.<br /><br />Maybe a strong sidekick would help like a Jackie Chan or heck maybe even Hulk Hogan. Luckily this movie had amazing martial artist and Jet Li look-a-like Matthew Modine. While some might argue that Matthew Modine doesn't come close to Jet Li, camera tricks prove that he is every bit as good. When it becomes obvious that an untrained chimp can't handle the movie, the movie leans on Matthew Modine to be the real star.<br /><br />Did I mention that there is some dorky kid that develops a bond with Modine and the monkey? Is there a possibility that the kid learns confidence and even picks up a girl in this movie? Even Matthew Modine should get jealous with this one (because using the pick-up line 'I'm second fiddle to a monkey' doesn't seem to work with the ladies.)<br /><br />Shortly after watching this movie the two guys got a phone call from Matthew Modine telling them 'Seven days.' ||  This review is __________.<br /><br />\n",
            "Expected: Negative, Answer: \n",
            "// I used to watch this show when I was a little girl. When I think about it, I only remember it vaguely. If you ask me, it was a good show. Two things I remember vaguely are the opening sequence and theme song. In addition to that, everyone was ideally cast. Also, the writing was very strong. The performances were top-grade, too. I hope some network brings it back so I can see every episode. Before I wrap this up, I'd like to say that I'll always remember this show in my memory forever, even though I don't think I've seen every episode. Now, in conclusion, if some network ever brings it back, I hope that you catch it one day before it goes off the air for good. || This review is Positive\n",
            "\n",
            "\n",
            "// I used to watch this show when I was a little girl. When I think about it, I only remember it vaguely. If you ask me, it was a good show. Two things I remember vaguely are the opening sequence and theme song. In addition to that, everyone was ideally cast. Also, the writing was very strong. The performances were top-grade, too. I hope some network brings it back so I can see every episode. Before I wrap this up, I'd like to say that I'll always remember this show in my memory forever, even though I don't think I've seen every episode. Now, in conclusion, if some network ever brings it back, I hope that you catch it one day before it goes off the air for good. ||  This review is __________. || I'll buy this\n",
            "Expected: Positive, Answer: \n",
            "// Hadn't really heard too much about this movie so I went and saw it. I realized that this movie only appeals to someone who has not lived in the real world. And even those people would think this movie moved too slowly.<br /><br />When the movie opens up, you see Nicole Kidman going to a nudist camp. Whoa. Shock. That scene, the dialouge, were all great. And then the movie went downhill.<br /><br />While I respect the vision the filmmaker must have, this movie sucked. It was too slow, too predictable, and not moving enough. Robert Downey Jr. is great, as usual, but this movie is not good enough to sit through. It tries to be shocking and abnormal but makes poor use of the talents of all the actors.<br /><br />Don't waste your money, even the sex scenes were boring. || This review is Negative\n",
            "\n",
            "\n",
            "// Hadn't really heard too much about this movie so I went and saw it. I realized that this movie only appeals to someone who has not lived in the real world. And even those people would think this movie moved too slowly.<br /><br />When the movie opens up, you see Nicole Kidman going to a nudist camp. Whoa. Shock. That scene, the dialouge, were all great. And then the movie went downhill.<br /><br />While I respect the vision the filmmaker must have, this movie sucked. It was too slow, too predictable, and not moving enough. Robert Downey Jr. is great, as usual, but this movie is not good enough to sit through. It tries to be shocking and abnormal but makes poor use of the talents of all the actors.<br /><br />Don't waste your money, even the sex scenes were boring. ||  This review is _________<br /><br />\n",
            "Expected: Negative, Answer: \n",
            "// Let me first state that while I have viewed every episode of StarTrek at least twice, I do not consider myself a Trekker or Trekkie. Those are people who live in their parents basement and attend conventions wearing costumes with pointed rubber ears. I gave this movie a seven casting aside the fiction historical errors. The acting was better than average, but the plot held no surprises. They tried very hard to reverse engineer the technology but still the special effects were just to great a temptation. Now as to the historical errors, if you call them that, the first Capitan to pilot the Enterprise was Commander April, then Capt. Pike, Jim Kirk, etc.. According to a statement made by both Riker and Kirk we dicovered the Klingons and educated them and gave them the technology (that's the reason a prime directive was created) but like I said these are no reason to discredit this fine series. I hope the plots will get deeper, and then special effects can take a backseat. || This review is Positive\n",
            "\n",
            "\n",
            "// Let me first state that while I have viewed every episode of StarTrek at least twice, I do not consider myself a Trekker or Trekkie. Those are people who live in their parents basement and attend conventions wearing costumes with pointed rubber ears. I gave this movie a seven casting aside the fiction historical errors. The acting was better than average, but the plot held no surprises. They tried very hard to reverse engineer the technology but still the special effects were just to great a temptation. Now as to the historical errors, if you call them that, the first Capitan to pilot the Enterprise was Commander April, then Capt. Pike, Jim Kirk, etc.. According to a statement made by both Riker and Kirk we dicovered the Klingons and educated them and gave them the technology (that's the reason a prime directive was created) but like I said these are no reason to discredit this fine series. I hope the plots will get deeper, and then special effects can take a backseat. ||  This review is __________________ Last edited by John; 02\n",
            "Expected: Positive, Answer: \n",
            "// My first Ichikawa in many years, and the first of his war films that I've seen, this was gripping and brutal from the very get-go. In the very first scene, nominal hero Tamura is told that he can't continue on with his unit, to which he has returned from the hospital. He apparently has TB  but he is not sick enough for the hospital to take him given the quantity of war-wounded they have. But his old unit won't take him back either; his CO gives him a grenade, and tells him that if he feels truly hopeless to blow himself upit's the honorable thing to do.<br /><br />The Phillipines, 1945, and the situation really does seem hopeless, for PFC Tamura and everyone else. Nobi is an odyssey through hell, or rather hells  denuded forests, dead rocky plains, and the dead and dying Japanese soldiers hoping just for an end, through peace or death. Ichikawa's film is photographed in stunning B&W scope which serves to highlight both the desolation felt by Tamura and those he meets on his journey towards his doom, and to show how truly small and naked they all are amidst the immensity of the mountains and the forests.this small affair of humans will end soon, the earth seems to be saying, but I will survive and barely notice it.<br /><br />Tamura travels back towards the hospital, but is (not surprisingly) rejected there, and spends the rest of the film trying to stay alive, stay human, and get out of danger. He doesn't manage to do very well on any account, slowly starving and eventually committing some fairly repellent acts. Eventually he hooks up with two other desperate men who have lost, or survived their units, and have resorted to cannibalismand in his weakened state facing other armed men, finds that the only way to live is to break with everything that he believes in.<br /><br />Ichikawa's film is as brutal, uncompromising and intense as any war film I've seen. There are moments of humor and tenderness, but they are fleeting and don't stick in the memory such as the scene with the man on the mountaintop who practically begs Tamura to eat his fleshthe recurring black-comic bit with Tamura exchanging his ragged shoes for the better leathers of a fallen comrade.the degradations that humans will endure to survive.the truth that this is any war, all wars, all mankind as long as we continue thus. A masterpiece that I probably won't watch again for a long, long time. Watched via the beautiful Criterion Collection DVD. || This review is Positive\n",
            "\n",
            "\n",
            "// My first Ichikawa in many years, and the first of his war films that I've seen, this was gripping and brutal from the very get-go. In the very first scene, nominal hero Tamura is told that he can't continue on with his unit, to which he has returned from the hospital. He apparently has TB  but he is not sick enough for the hospital to take him given the quantity of war-wounded they have. But his old unit won't take him back either; his CO gives him a grenade, and tells him that if he feels truly hopeless to blow himself upit's the honorable thing to do.<br /><br />The Phillipines, 1945, and the situation really does seem hopeless, for PFC Tamura and everyone else. Nobi is an odyssey through hell, or rather hells  denuded forests, dead rocky plains, and the dead and dying Japanese soldiers hoping just for an end, through peace or death. Ichikawa's film is photographed in stunning B&W scope which serves to highlight both the desolation felt by Tamura and those he meets on his journey towards his doom, and to show how truly small and naked they all are amidst the immensity of the mountains and the forests.this small affair of humans will end soon, the earth seems to be saying, but I will survive and barely notice it.<br /><br />Tamura travels back towards the hospital, but is (not surprisingly) rejected there, and spends the rest of the film trying to stay alive, stay human, and get out of danger. He doesn't manage to do very well on any account, slowly starving and eventually committing some fairly repellent acts. Eventually he hooks up with two other desperate men who have lost, or survived their units, and have resorted to cannibalismand in his weakened state facing other armed men, finds that the only way to live is to break with everything that he believes in.<br /><br />Ichikawa's film is as brutal, uncompromising and intense as any war film I've seen. There are moments of humor and tenderness, but they are fleeting and don't stick in the memory such as the scene with the man on the mountaintop who practically begs Tamura to eat his fleshthe recurring black-comic bit with Tamura exchanging his ragged shoes for the better leathers of a fallen comrade.the degradations that humans will endure to survive.the truth that this is any war, all wars, all mankind as long as we continue thus. A masterpiece that I probably won't watch again for a long, long time. Watched via the beautiful Criterion Collection DVD. ||  This review is __________ from The Reviewer Blog.\n",
            "Expected: Positive, Answer: \n",
            "// The story told by The Cranes are Flying is not, admittedly, all that original. Young lovers are separated by war; bad things happen to both. We've seen it many times before.<br /><br />Nonetheless, we haven't seen it filmed this well, with bold shots that take liberties to emphasize separation, or destruction, or hopelessness. All the more remarkable coming from the Soviet Union, and reason to conclude that Tarkovsky is not the last word in modern-era Soviet cinema.<br /><br />I was reading Chekhov's \"Three Sisters\" the other day, and chanced upon what may be the meaning of the title of this film. In Act 2, Masha objects to the notion that we must live our lives without meaning or understanding:<br /><br />\"MASHA: Surely mankind must believe in something, or at least seek for the truth, otherwise life is just emptiness, emptiness. To live and not to know why the cranes are flying, why children are born, why there are stars in the sky. Either you must know why it is you live, or everything is trivial - mere pointless nonsense.\"<br /><br />Likewise, Veronika has a hard time believing that the war, and her and others' sufferings, have been pointless. Better to assign a meaning, to live as if one's life is significant, and not to give in to despair. It is perhaps this thinking that prompts her to her final act in the film.<br /><br />BTW as a minor correction to one other comment here--there may be a pattern of V's in the film, though I hadn't noticed them myself. But the first letter of Veronika's name is not a further instance of this; in the Cyrillic alphabet, her name begins with a letter which looks like an English \"B\". || This review is Positive\n",
            "\n",
            "\n",
            "// The story told by The Cranes are Flying is not, admittedly, all that original. Young lovers are separated by war; bad things happen to both. We've seen it many times before.<br /><br />Nonetheless, we haven't seen it filmed this well, with bold shots that take liberties to emphasize separation, or destruction, or hopelessness. All the more remarkable coming from the Soviet Union, and reason to conclude that Tarkovsky is not the last word in modern-era Soviet cinema.<br /><br />I was reading Chekhov's \"Three Sisters\" the other day, and chanced upon what may be the meaning of the title of this film. In Act 2, Masha objects to the notion that we must live our lives without meaning or understanding:<br /><br />\"MASHA: Surely mankind must believe in something, or at least seek for the truth, otherwise life is just emptiness, emptiness. To live and not to know why the cranes are flying, why children are born, why there are stars in the sky. Either you must know why it is you live, or everything is trivial - mere pointless nonsense.\"<br /><br />Likewise, Veronika has a hard time believing that the war, and her and others' sufferings, have been pointless. Better to assign a meaning, to live as if one's life is significant, and not to give in to despair. It is perhaps this thinking that prompts her to her final act in the film.<br /><br />BTW as a minor correction to one other comment here--there may be a pattern of V's in the film, though I hadn't noticed them myself. But the first letter of Veronika's name is not a further instance of this; in the Cyrillic alphabet, her name begins with a letter which looks like an English \"B\". ||  This review is __________ of the Russian version of the\n",
            "Expected: Positive, Answer: \n",
            "// I could not even bring myself to watch this movie to the end. I cannot comment on the story as I did not watch the whole film and the reason I couldn't watch it was because of the 'actors'. Firstly, for the most part they just looked stiff and I'm sure their scripts were in their hands just out of frame - but that's a minor issue. The main issue I have with the actors isn't really their fault... it's whoever cast this film! Come on, this movie came out in 2003... I thought that casting people in their late twenties to play teenagers went out of fashion with new wave?! I cannot watch a movie where one of the first lines, from a grown man older than myself, is \"I'm 17!\" How can anyone take that seriously????? Don't fall victim to this movie, go out for a walk for 90 minutes and you'll get far more than this movie could ever give. || This review is Negative\n",
            "\n",
            "\n",
            "// I could not even bring myself to watch this movie to the end. I cannot comment on the story as I did not watch the whole film and the reason I couldn't watch it was because of the 'actors'. Firstly, for the most part they just looked stiff and I'm sure their scripts were in their hands just out of frame - but that's a minor issue. The main issue I have with the actors isn't really their fault... it's whoever cast this film! Come on, this movie came out in 2003... I thought that casting people in their late twenties to play teenagers went out of fashion with new wave?! I cannot watch a movie where one of the first lines, from a grown man older than myself, is \"I'm 17!\" How can anyone take that seriously????? Don't fall victim to this movie, go out for a walk for 90 minutes and you'll get far more than this movie could ever give. ||  This review is _________ _________ _________\n",
            "Expected: Negative, Answer: \n",
            "// Whenever I see most reviews it's called 'a misfire for Eddie Murphy'. These critics want to take a look at some of the stuff he's doing these days, and maybe soften their stance in retrospect... \"The Golden Child\" is not highbrow entertainment, but thanks to some of the cast it breaths new life into old clichés, and gives Murphy one of his best roles. I don't understand the pervading lack of 'love' for its efforts, at all. Perhaps it was released at a time when the establishment had grown weary of knockabout, thrill-a-minute adventures? Steven Spielberg started it with Indiana Jones; it's unfair to make this one a scapegoat when what is possibly its biggest sin is also utterly harmless. There's nothing necessarily wrong with trying to capitalise on trends.<br /><br />Yes it's silly, but even an occasional observer should be able to understand that 'ridiculous' is where Hollywood's idea of mysticism begins and ends. What's more important than believability with a story like this is that the audience have entertaining tour guides on hand to show them the mysterious sights. Michael Ritchie and Eddie Murphy fit the bill for this capacity just fine. My advice to you is to buy the ticket and take the ride. || This review is Positive\n",
            "\n",
            "\n",
            "// Whenever I see most reviews it's called 'a misfire for Eddie Murphy'. These critics want to take a look at some of the stuff he's doing these days, and maybe soften their stance in retrospect... \"The Golden Child\" is not highbrow entertainment, but thanks to some of the cast it breaths new life into old clichés, and gives Murphy one of his best roles. I don't understand the pervading lack of 'love' for its efforts, at all. Perhaps it was released at a time when the establishment had grown weary of knockabout, thrill-a-minute adventures? Steven Spielberg started it with Indiana Jones; it's unfair to make this one a scapegoat when what is possibly its biggest sin is also utterly harmless. There's nothing necessarily wrong with trying to capitalise on trends.<br /><br />Yes it's silly, but even an occasional observer should be able to understand that 'ridiculous' is where Hollywood's idea of mysticism begins and ends. What's more important than believability with a story like this is that the audience have entertaining tour guides on hand to show them the mysterious sights. Michael Ritchie and Eddie Murphy fit the bill for this capacity just fine. My advice to you is to buy the ticket and take the ride. ||  This review is _______________ from _______________ on V\n",
            "Expected: Positive, Answer: \n",
            "// This self-important, confusing b+w \"film\" watches like an infant on a very bad acid trip. You're dealing with something that reminds you of a piece of rotting lettuce that accidentally fell out of the back of a garbage truck: no one cares to touch it because it will probably be washed away on its own down the storm drain. There's no room for plot when you've got \"visceral imagery\" and \"subtle\" allegory. To me, it seems like the director tries to make the next great art movie while begging for intellectual accolades. I didn't bring my beret either. Watching this, I felt almost insulted since the \"film\" does such an effective job of distancing itself from you. || This review is Negative\n",
            "\n",
            "\n",
            "// This self-important, confusing b+w \"film\" watches like an infant on a very bad acid trip. You're dealing with something that reminds you of a piece of rotting lettuce that accidentally fell out of the back of a garbage truck: no one cares to touch it because it will probably be washed away on its own down the storm drain. There's no room for plot when you've got \"visceral imagery\" and \"subtle\" allegory. To me, it seems like the director tries to make the next great art movie while begging for intellectual accolades. I didn't bring my beret either. Watching this, I felt almost insulted since the \"film\" does such an effective job of distancing itself from you. ||  This review is _________ Written by Gene Healy,\n",
            "Expected: Negative, Answer: \n",
            "// First of all I hate those moronic rappers, who could'nt act if they had a gun pressed against their foreheads. All they do is curse and shoot each other and acting like cliché'e version of gangsters.<br /><br />The movie doesn't take more than five minutes to explain what is going on before we're already at the warehouse There is not a single sympathetic character in this movie, except for the homeless guy, who is also the only one with half a brain.<br /><br />Bill Paxton and William Sadler are both hill billies and Sadlers character is just as much a villain as the gangsters. I did'nt like him right from the start.<br /><br />The movie is filled with pointless violence and Walter Hills specialty: people falling through windows with glass flying everywhere. There is pretty much no plot and it is a big problem when you root for no-one. Everybody dies, except from Paxton and the homeless guy and everybody get what they deserve.<br /><br />The only two black people that can act is the homeless guy and the junkie but they're actors by profession, not annoying ugly brain dead rappers.<br /><br />Stay away from this crap and watch 48 hours 1 and 2 instead. At lest they have characters you care about, a sense of humor and nothing but real actors in the cast. || This review is Negative\n",
            "\n",
            "\n",
            "// First of all I hate those moronic rappers, who could'nt act if they had a gun pressed against their foreheads. All they do is curse and shoot each other and acting like cliché'e version of gangsters.<br /><br />The movie doesn't take more than five minutes to explain what is going on before we're already at the warehouse There is not a single sympathetic character in this movie, except for the homeless guy, who is also the only one with half a brain.<br /><br />Bill Paxton and William Sadler are both hill billies and Sadlers character is just as much a villain as the gangsters. I did'nt like him right from the start.<br /><br />The movie is filled with pointless violence and Walter Hills specialty: people falling through windows with glass flying everywhere. There is pretty much no plot and it is a big problem when you root for no-one. Everybody dies, except from Paxton and the homeless guy and everybody get what they deserve.<br /><br />The only two black people that can act is the homeless guy and the junkie but they're actors by profession, not annoying ugly brain dead rappers.<br /><br />Stay away from this crap and watch 48 hours 1 and 2 instead. At lest they have characters you care about, a sense of humor and nothing but real actors in the cast. ||  This review is __________ || || I mean, I\n",
            "Expected: Negative, Answer: \n",
            "// ...except for Jon Heder. This guy tanked the entire movie.<br /><br />The plot sounded entertaining. A 29 year old slacker son(Heder)still lives with widowed mom (Keaton)who happens to meet a new love (Daniels). Slacker son is jealous and anxious to lose his comfortable life and tries to sabotage the relationship. He also meets a girl(Faris).<br /><br />I really liked the performance of Daniels and especially Faris but whoever casted Hader would be better of selling hot dogs at the beach. Heders performance is annoying, which would be a good thing since he plays an annoying guy, problem is he is to bad an actor to loose this act making this guy likable in the finale. At the end you still wish you can personally punch the guy in the face and you're upset about the end. In the future every movie with this guy will be a no go for me! || This review is Negative\n",
            "\n",
            "\n",
            "// ...except for Jon Heder. This guy tanked the entire movie.<br /><br />The plot sounded entertaining. A 29 year old slacker son(Heder)still lives with widowed mom (Keaton)who happens to meet a new love (Daniels). Slacker son is jealous and anxious to lose his comfortable life and tries to sabotage the relationship. He also meets a girl(Faris).<br /><br />I really liked the performance of Daniels and especially Faris but whoever casted Hader would be better of selling hot dogs at the beach. Heders performance is annoying, which would be a good thing since he plays an annoying guy, problem is he is to bad an actor to loose this act making this guy likable in the finale. At the end you still wish you can personally punch the guy in the face and you're upset about the end. In the future every movie with this guy will be a no go for me! ||  This review is __________________ Last edited by Vidal;\n",
            "Expected: Negative, Answer: \n",
            "// Written and directed by Steve Gordon. Running time: 97 minutes. Classified PG.<br /><br />It was the quintessential comedy of the decade. It won Sir John Gielgud the Academy Award. It was even featured in VH1's \"I Love the 80's.\" And it looks just as good today as it did upon it's initial release. Arthur is the acclaimed comedy classic about a drunken millionaire (played with enthusiasm and wit by Dudley Moore in an Oscar-nominated performance) who must choose between the woman he loves and the life he's grown accustomed to. While the basic plot is one big cliche, there's nothing trite about this congenial combination of clever dialogue and hilarious farce. Arthur Bach is essentially nothing more than a pretentious jerk, but you can't help but like him. Especially when he delivers lines such as, \"Don't you wish you were me? I know I do!\" He's also a delineation from the archetypical movie hero: unlike most wealthy characters we see on the silver screen, he's not ashamed of being filthy rich. In one scene, a man asks him, \"What does it feel like to have all that money?,\" to which he responds, \"It feels great.\" Moore lends such charisma and charm to a character that would otherwise be loathed by his audience. And Gielgud is simply perfect as the arrogant servant, addressing his master with extreme condescension in spite of the fact that his salary depends on him. Arthur is one of those movies that doesn't try to be brilliant or particularly exceptional: it just comes naturally. The screenplay -- which also earned a nod from the Academy -- is saturated with authentic laugh-out-loud dialogue. This is the kind of movie that, when together with a bunch of poker buddies, you quote endlessly to one another. It also looks at its characters with sincere empathy. There have been a number of comedies that attempt to dip into drama by including the death or illness of a principal star (including both Grumpy Old Men's), but few can carry it off because we just don't care. When this movie makes the dubious decision to knock off the butler, it actually works, because we genuinely like these people. Why should you see Arthur? The answer is simple: because it's an all-around, non-guilty pleasure. At a period in which films are becoming more and more serious, Arthur reminds us what it feels like to go to the movies and just have a good time.<br /><br />**** - Classic || This review is Positive\n",
            "\n",
            "\n",
            "// Written and directed by Steve Gordon. Running time: 97 minutes. Classified PG.<br /><br />It was the quintessential comedy of the decade. It won Sir John Gielgud the Academy Award. It was even featured in VH1's \"I Love the 80's.\" And it looks just as good today as it did upon it's initial release. Arthur is the acclaimed comedy classic about a drunken millionaire (played with enthusiasm and wit by Dudley Moore in an Oscar-nominated performance) who must choose between the woman he loves and the life he's grown accustomed to. While the basic plot is one big cliche, there's nothing trite about this congenial combination of clever dialogue and hilarious farce. Arthur Bach is essentially nothing more than a pretentious jerk, but you can't help but like him. Especially when he delivers lines such as, \"Don't you wish you were me? I know I do!\" He's also a delineation from the archetypical movie hero: unlike most wealthy characters we see on the silver screen, he's not ashamed of being filthy rich. In one scene, a man asks him, \"What does it feel like to have all that money?,\" to which he responds, \"It feels great.\" Moore lends such charisma and charm to a character that would otherwise be loathed by his audience. And Gielgud is simply perfect as the arrogant servant, addressing his master with extreme condescension in spite of the fact that his salary depends on him. Arthur is one of those movies that doesn't try to be brilliant or particularly exceptional: it just comes naturally. The screenplay -- which also earned a nod from the Academy -- is saturated with authentic laugh-out-loud dialogue. This is the kind of movie that, when together with a bunch of poker buddies, you quote endlessly to one another. It also looks at its characters with sincere empathy. There have been a number of comedies that attempt to dip into drama by including the death or illness of a principal star (including both Grumpy Old Men's), but few can carry it off because we just don't care. When this movie makes the dubious decision to knock off the butler, it actually works, because we genuinely like these people. Why should you see Arthur? The answer is simple: because it's an all-around, non-guilty pleasure. At a period in which films are becoming more and more serious, Arthur reminds us what it feels like to go to the movies and just have a good time.<br /><br />**** - Classic ||  This review is _________. The review is NOT a\n",
            "Expected: Positive, Answer: \n",
            "// This movie was terrible. It is not something that people should have to pay to see. It looks like some Christian group made it to convert people. I don't understand why it was released to theaters and not to TV.<br /><br />It started out like an old fashioned B movie sci-fi film from the 50s, but quickly changed. About 30 minutes into the movie the characters start talking about \"God\" and \"Do you believe in Jesus?\" It quickly moves into pure religion territory.<br /><br />I thought I was going to a Sci-Fi movie. The film has poor acting; bad camera angles and is amateurish.<br /><br />AVOID IT! || This review is Negative\n",
            "\n",
            "\n",
            "// This movie was terrible. It is not something that people should have to pay to see. It looks like some Christian group made it to convert people. I don't understand why it was released to theaters and not to TV.<br /><br />It started out like an old fashioned B movie sci-fi film from the 50s, but quickly changed. About 30 minutes into the movie the characters start talking about \"God\" and \"Do you believe in Jesus?\" It quickly moves into pure religion territory.<br /><br />I thought I was going to a Sci-Fi movie. The film has poor acting; bad camera angles and is amateurish.<br /><br />AVOID IT! ||  This review is _________<br /><br />\n",
            "Expected: Negative, Answer: \n",
            "// I agree with all aforementioned comments. This show was a delight to watch. Funny, witty, terrific acting and zany sets. It's always a thrill to find a show that is smartly written, assumes the audience has brains and displays subtle humor. I would spend good, hard-earned cash money to see it again on DVD. And as long as we're requesting Smart Series That Never Got a Chance...How about DVD releases of Maximum Bob (another well written, odd duck show with a delightful cast of characters.) And add to the list...Middle Ages or Frank's Place. There has to a way to release these shows out of the vaults and into the hands of devoted fans and new audiences. || This review is Positive\n",
            "\n",
            "\n",
            "// I agree with all aforementioned comments. This show was a delight to watch. Funny, witty, terrific acting and zany sets. It's always a thrill to find a show that is smartly written, assumes the audience has brains and displays subtle humor. I would spend good, hard-earned cash money to see it again on DVD. And as long as we're requesting Smart Series That Never Got a Chance...How about DVD releases of Maximum Bob (another well written, odd duck show with a delightful cast of characters.) And add to the list...Middle Ages or Frank's Place. There has to a way to release these shows out of the vaults and into the hands of devoted fans and new audiences. ||  This review is  written by Robert Plomer for the\n",
            "Expected: Positive, Answer: \n",
            "// It is fitting on a musical Sunday to get your heart a pumping, and no one can do that better than Little Richard. The man could sing the drawers off the ladies and defined rock and roll.<br /><br />Look to Leon to provide a definitive characterization, as he has done so with David Ruffin in The Temptations and Jackie Wilson in Mr. Rock 'n' Roll: The Alan Freed Story.<br /><br />This was a fascinating biopic as we saw Little Richard struggle with his father, with his church and with himself over just who he was. He won the battle and there is no one else that has his voice or his style. || This review is Positive\n",
            "\n",
            "\n",
            "// It is fitting on a musical Sunday to get your heart a pumping, and no one can do that better than Little Richard. The man could sing the drawers off the ladies and defined rock and roll.<br /><br />Look to Leon to provide a definitive characterization, as he has done so with David Ruffin in The Temptations and Jackie Wilson in Mr. Rock 'n' Roll: The Alan Freed Story.<br /><br />This was a fascinating biopic as we saw Little Richard struggle with his father, with his church and with himself over just who he was. He won the battle and there is no one else that has his voice or his style. ||  This review is __________________ Last edited by Ollie\n",
            "Expected: Positive, Answer: \n",
            "// Larry Burrows has the distinct feeling he's missing out on something. Ever since he missed a crucial baseball shot at school that cost the championship, he's been convinced his life would have turned out better had he made that shot. Then one night his car breaks down again. Walking into the nearest bar to wait for the tow truck, Larry happens upon barman Mike, who unbeknown to Larry is about to change his life for ever.......<br /><br />The alternate life premise in cinema is hardly a new thing, stretching back to the likes of It's A Wonderful Life and showing no signs of abating with the quite recent Sandler vehicle that was Click. It's a genre that has produced very mixed results. Back in 1990 was this James Belushi led production, rarely mentioned when the said topic arises, it appears that it has largely been forgotten. Which is a shame since it oozes charm and is not short in the humour department. We know that we are being led to its ultimate message come the end, but it's a fun and enjoyable path to be led down. The film also serves notice to what a fine comedy actor James Belushi was. I mean if his style of smart quipping and larking exasperation isn't your thing,? then chances are you would avoid this film anyway. But for those engaged by the likes of Red Heat, K-9 and Taking Care of Business, well Mr. Destiny is right up your street. Along for the ride are Linda Hamilton, Michael Caine, Jon Lovitz, Hart Bochner, Jay O. Sanders, Rene Russo and Courteney Cox.<br /><br />Mr. Destiny, pure escapist fun with a kicker of a message at its heart. 7/10 || This review is Positive\n",
            "\n",
            "\n",
            "// Larry Burrows has the distinct feeling he's missing out on something. Ever since he missed a crucial baseball shot at school that cost the championship, he's been convinced his life would have turned out better had he made that shot. Then one night his car breaks down again. Walking into the nearest bar to wait for the tow truck, Larry happens upon barman Mike, who unbeknown to Larry is about to change his life for ever.......<br /><br />The alternate life premise in cinema is hardly a new thing, stretching back to the likes of It's A Wonderful Life and showing no signs of abating with the quite recent Sandler vehicle that was Click. It's a genre that has produced very mixed results. Back in 1990 was this James Belushi led production, rarely mentioned when the said topic arises, it appears that it has largely been forgotten. Which is a shame since it oozes charm and is not short in the humour department. We know that we are being led to its ultimate message come the end, but it's a fun and enjoyable path to be led down. The film also serves notice to what a fine comedy actor James Belushi was. I mean if his style of smart quipping and larking exasperation isn't your thing,? then chances are you would avoid this film anyway. But for those engaged by the likes of Red Heat, K-9 and Taking Care of Business, well Mr. Destiny is right up your street. Along for the ride are Linda Hamilton, Michael Caine, Jon Lovitz, Hart Bochner, Jay O. Sanders, Rene Russo and Courteney Cox.<br /><br />Mr. Destiny, pure escapist fun with a kicker of a message at its heart. 7/10 ||  This review is __________<|endoftext|>The Pentagon has denied the\n",
            "Expected: Positive, Answer: \n",
            "// It's been a looooonnnggg time since I saw this comedy, and I'd forgotten just how idiotic it is. I'd place this easily in the lower two or three of Elvis Presley's very worst movies. Presley plays Joe Whitecloud, a half-breed Indian bull rider who returns home to Arizona and the broken-down shack where his family lives, and where his friends love to party all night long. His parents are played by Burgess Meredith and Katy Jurado, and his old Indian grandpa is Thomas Gomez. None of the three offer anything of substance , comically or otherwise. The government has invested in the family's cattle, but they're lacking a bull. Elvis gets to sing just a few utterly worthless songs, and is pursued by a young boy-crazy gal and her gun-toting mother. This is just a real slapdash of a mess, and the dilapidated surroundings practically stink of manure and don't make this much easier. The one thing that puzzles me, however, is that Elvis actually seems to be having a good time in the film. Hard to believe, considering he got so upset about being stuck making so many mediocre movies. || This review is Negative\n",
            "\n",
            "\n",
            "// It's been a looooonnnggg time since I saw this comedy, and I'd forgotten just how idiotic it is. I'd place this easily in the lower two or three of Elvis Presley's very worst movies. Presley plays Joe Whitecloud, a half-breed Indian bull rider who returns home to Arizona and the broken-down shack where his family lives, and where his friends love to party all night long. His parents are played by Burgess Meredith and Katy Jurado, and his old Indian grandpa is Thomas Gomez. None of the three offer anything of substance , comically or otherwise. The government has invested in the family's cattle, but they're lacking a bull. Elvis gets to sing just a few utterly worthless songs, and is pursued by a young boy-crazy gal and her gun-toting mother. This is just a real slapdash of a mess, and the dilapidated surroundings practically stink of manure and don't make this much easier. The one thing that puzzles me, however, is that Elvis actually seems to be having a good time in the film. Hard to believe, considering he got so upset about being stuck making so many mediocre movies. ||  This review is _____________. It is based on the\n",
            "Expected: Negative, Answer: \n",
            "// For many the hit series was ten years of pitch black humour loaded with affectionate parodies of classic films and a hilarious assortment of over a hundred characters with instantly recognisable catchphrases. Few shows have survived transition from radio to TV to stage show to film but The League of Gentlemen have achieved it with suitable aplomb.<br /><br />The talented writer/performers had initially envisioned a Monty Python style medieval adventure, but as soon as writing began they soon realised that the characters they have lived with had become very real and deserved better. With that, the Royston Vasey folk realise their very existence is under threat as the writers decide to disregard the fictitious town and work on a 17th Century romp instead.<br /><br />With the exception of Michael Sheen playing much unseen League member Jeremy Dyson, The League play pretty unlikeable caricatures of their real life personae as well as the familiar faces of Tubbs (\"I made a little brown fishy\"), nightmare inducing sexual predator Herr Lipp, butcher Hilary Briss and an unlikely hero - irate businessman Geoff Tibbs. New faces appear when the third reality appears, it's here we are treated to charming and funny cameos from veteran actors and popular TV stars. For many this will be a really enjoyable 90 minutes.<br /><br />'Apocalpse is not going to please everyone though. Working on this level of post modernism has been done a few times before now and may seem all too familiar to audiences raised on irony drenched teen successes kick-started by the likes of Wes Craven having a New Nightmare. It also takes a lot of confidence in an audience to keep up with a high concept story so there are moments of exposition and dialogue that serve only to confirm what most in the audience already know. Comedy as a genre is formulaic but it's now unheard of for a British film not to fall back on the huge back catalogue of TV stars to fill short amounts of screen time. It's also hard to believe the creators ever wanted their offspring killed off, which is perhaps why some of the role reversal doesn't always quite hit the mark. Would Hilary Briss have wanted to try save Royston Vasey in the series?<br /><br />However, while the show's deliciously dark vein has almost all but disappeared but is arguably more accessible for it. Much will be said about the character development and efforts to humanise the likes of previously one joke incarnations like Herr Lipp. It is here an impossible level of depth can be found along with a harsh streak of biting satire and throwaway put downs. Sentiment is there with a lump in the throat but not sugar coated thickly enough to intrude on the action. The music is good, performances exemplary and the animation is wonderfully seamless; a nice throwback to Terry Gilliam and Ray Harryhausen's work. In short, there's a lot to like about the Apocalypse. Like so many TV to film transfers it was never going to be easy finding the line between preaching to the converted and introducing the uninitiated to the League's slick and distinct voice. But no matter what your preference is, this last trip to the town which 'You'll Never Leave' is oddly lined with hope and ultimately very, very touching. || This review is Positive\n",
            "\n",
            "\n",
            "// For many the hit series was ten years of pitch black humour loaded with affectionate parodies of classic films and a hilarious assortment of over a hundred characters with instantly recognisable catchphrases. Few shows have survived transition from radio to TV to stage show to film but The League of Gentlemen have achieved it with suitable aplomb.<br /><br />The talented writer/performers had initially envisioned a Monty Python style medieval adventure, but as soon as writing began they soon realised that the characters they have lived with had become very real and deserved better. With that, the Royston Vasey folk realise their very existence is under threat as the writers decide to disregard the fictitious town and work on a 17th Century romp instead.<br /><br />With the exception of Michael Sheen playing much unseen League member Jeremy Dyson, The League play pretty unlikeable caricatures of their real life personae as well as the familiar faces of Tubbs (\"I made a little brown fishy\"), nightmare inducing sexual predator Herr Lipp, butcher Hilary Briss and an unlikely hero - irate businessman Geoff Tibbs. New faces appear when the third reality appears, it's here we are treated to charming and funny cameos from veteran actors and popular TV stars. For many this will be a really enjoyable 90 minutes.<br /><br />'Apocalpse is not going to please everyone though. Working on this level of post modernism has been done a few times before now and may seem all too familiar to audiences raised on irony drenched teen successes kick-started by the likes of Wes Craven having a New Nightmare. It also takes a lot of confidence in an audience to keep up with a high concept story so there are moments of exposition and dialogue that serve only to confirm what most in the audience already know. Comedy as a genre is formulaic but it's now unheard of for a British film not to fall back on the huge back catalogue of TV stars to fill short amounts of screen time. It's also hard to believe the creators ever wanted their offspring killed off, which is perhaps why some of the role reversal doesn't always quite hit the mark. Would Hilary Briss have wanted to try save Royston Vasey in the series?<br /><br />However, while the show's deliciously dark vein has almost all but disappeared but is arguably more accessible for it. Much will be said about the character development and efforts to humanise the likes of previously one joke incarnations like Herr Lipp. It is here an impossible level of depth can be found along with a harsh streak of biting satire and throwaway put downs. Sentiment is there with a lump in the throat but not sugar coated thickly enough to intrude on the action. The music is good, performances exemplary and the animation is wonderfully seamless; a nice throwback to Terry Gilliam and Ray Harryhausen's work. In short, there's a lot to like about the Apocalypse. Like so many TV to film transfers it was never going to be easy finding the line between preaching to the converted and introducing the uninitiated to the League's slick and distinct voice. But no matter what your preference is, this last trip to the town which 'You'll Never Leave' is oddly lined with hope and ultimately very, very touching. ||  This review is __________________<|endoftext|>The U.S.\n",
            "Expected: Positive, Answer: \n",
            "// This was a crappy, miserably acted movie based on sublimated male fantasies. A shame that it was based in Texas, an otherwise excellent state. I would recommend this movie to no-one, and wish that it had never entered my consciousness as I am now so irritated that I wasted my brain cells even paying the slightest attention to it. || This review is Negative\n",
            "\n",
            "\n",
            "// This was a crappy, miserably acted movie based on sublimated male fantasies. A shame that it was based in Texas, an otherwise excellent state. I would recommend this movie to no-one, and wish that it had never entered my consciousness as I am now so irritated that I wasted my brain cells even paying the slightest attention to it. ||  This review is _____________ || You can read more reviews\n",
            "Expected: Negative, Answer: \n",
            "// Here's the skinny, it seems that this is much older then I thought it was. But it's still cool. The bike mechs are cool and the story works for the most part. There are some character issues that I hope work themselves out by part 2 and my biggest complaint of all that it seems to be a MACROSS knock off. Not just the animation style but several character designs. For example all the girls in this movie look like LYN MINMAY of MACROSS. The mechs look similar to MACROSS as well as the other characters. This is really not made for little kids, it has graphic violence, nudity and graphic sexual content. So to make a long story short I give this cool MACROSS knock-off 7 STARS. || This review is Positive\n",
            "\n",
            "\n",
            "// Here's the skinny, it seems that this is much older then I thought it was. But it's still cool. The bike mechs are cool and the story works for the most part. There are some character issues that I hope work themselves out by part 2 and my biggest complaint of all that it seems to be a MACROSS knock off. Not just the animation style but several character designs. For example all the girls in this movie look like LYN MINMAY of MACROSS. The mechs look similar to MACROSS as well as the other characters. This is really not made for little kids, it has graphic violence, nudity and graphic sexual content. So to make a long story short I give this cool MACROSS knock-off 7 STARS. ||  This review is ・ for the story and the animation.\n",
            "Expected: Positive, Answer: \n",
            "// What boob at MGM thought it would be a good idea to place the studly Clark Gable in the role of a Salvation Army worker?? Ironically enough, another handsome future star, Cary Grant, also played a Salvation Army guy just two years later in the highly overrated SHE DONE HIM WRONG. I guess in hindsight it's pretty easy to see the folly of these roles, but I still wonder WHO thought that Salvation Army guys are \"HOT\" and who could look at these dashing men and see them as realistic representations of the parts they played. A long time ago, I used to work for a sister organization of the Salvation Army (the Volunteers of America) and I NEVER saw any studly guys working there (and that includes me, unfortunately). Maybe I should have gotten a job with the Salvation Army instead!<br /><br />So, for the extremely curious, this is a good film to look out for, but for everyone else, it's poor writing, sloppy dialog and annoying moralizing make for a very slow film. || This review is Negative\n",
            "\n",
            "\n",
            "// What boob at MGM thought it would be a good idea to place the studly Clark Gable in the role of a Salvation Army worker?? Ironically enough, another handsome future star, Cary Grant, also played a Salvation Army guy just two years later in the highly overrated SHE DONE HIM WRONG. I guess in hindsight it's pretty easy to see the folly of these roles, but I still wonder WHO thought that Salvation Army guys are \"HOT\" and who could look at these dashing men and see them as realistic representations of the parts they played. A long time ago, I used to work for a sister organization of the Salvation Army (the Volunteers of America) and I NEVER saw any studly guys working there (and that includes me, unfortunately). Maybe I should have gotten a job with the Salvation Army instead!<br /><br />So, for the extremely curious, this is a good film to look out for, but for everyone else, it's poor writing, sloppy dialog and annoying moralizing make for a very slow film. ||  This review is _________ (I'm a Mormon (\n",
            "Expected: Negative, Answer: \n",
            "// Hey guy, this movies is everything about choices. All the times in your life you must pick something or it just pass away... And this movie prove that! Of course, life in fact is not like a beautiful picture as this movie shows... it not shows indeed but some may figure that. I'm trying to say it's full of pain, love and deep lessons of live. Aaron, the Mormon missionary is the real shepherd digging out the thing beautiful deep inside Chisthian, the skin feeling guy...<br /><br />It's a great end and you do always believe in fate because it will surprise you in a turn or in other of your live like Latter Days...<br /><br />Big deal watch it!!! || This review is Positive\n",
            "\n",
            "\n",
            "// Hey guy, this movies is everything about choices. All the times in your life you must pick something or it just pass away... And this movie prove that! Of course, life in fact is not like a beautiful picture as this movie shows... it not shows indeed but some may figure that. I'm trying to say it's full of pain, love and deep lessons of live. Aaron, the Mormon missionary is the real shepherd digging out the thing beautiful deep inside Chisthian, the skin feeling guy...<br /><br />It's a great end and you do always believe in fate because it will surprise you in a turn or in other of your live like Latter Days...<br /><br />Big deal watch it!!! ||  This review is ~~~ <br /><br />\n",
            "Expected: Positive, Answer: \n",
            "// I watch a TON of movies and enjoy the occasional B movie but this movie was awful. Aside from the \"homemade\" quality of the film it was very slow and seemed to make no point. I'm only commenting b/c of another comment I saw here that said it was great! WOW! Maybe OK to watch on a rainy day when nothing else is available.<br /><br />The characters were disjointed and didn't fit any discernible pattern of reality. The dialog between characters was forced and at times very confusing.<br /><br />I guess if you were very into the whole area 51 and understood some of the nuances other comments reference, it may be good - but for me - the Average Joe - I don't get it!? || This review is Negative\n",
            "\n",
            "\n",
            "// I watch a TON of movies and enjoy the occasional B movie but this movie was awful. Aside from the \"homemade\" quality of the film it was very slow and seemed to make no point. I'm only commenting b/c of another comment I saw here that said it was great! WOW! Maybe OK to watch on a rainy day when nothing else is available.<br /><br />The characters were disjointed and didn't fit any discernible pattern of reality. The dialog between characters was forced and at times very confusing.<br /><br />I guess if you were very into the whole area 51 and understood some of the nuances other comments reference, it may be good - but for me - the Average Joe - I don't get it!? ||  This review is _________. I will continue to watch\n",
            "Expected: Negative, Answer: \n",
            "// This is probably the worst movie I've seen in a long time. Independent or not, solid writing is a must. Ditto for directing and acting. I know these actors can act (I've seen them in Sporanos and more...) but this movie is very bad, very bad. Maybe it's the script, maybe it's the director. Probably a little of both.....Probably a LOT of both! Technically OK, Just bad, bad, bad... I have a theory that the backers for this movie also own the Poker magazines, because I saw a very favorable review in one of the magazines. \" Hey' we made it, so it's gotta be good, right?\" Not so fast Bucky. I know it takes a lot of hard work and money to even get a movie made, much less sold and distributed, and for that I commend these folks. But the final product, leave a bad taste in my mouth.<br /><br />P.S. I won a free rental and chose this movie from Blockbuster. Tomorrow I'm going to get my money back. || This review is Negative\n",
            "\n",
            "\n",
            "// This is probably the worst movie I've seen in a long time. Independent or not, solid writing is a must. Ditto for directing and acting. I know these actors can act (I've seen them in Sporanos and more...) but this movie is very bad, very bad. Maybe it's the script, maybe it's the director. Probably a little of both.....Probably a LOT of both! Technically OK, Just bad, bad, bad... I have a theory that the backers for this movie also own the Poker magazines, because I saw a very favorable review in one of the magazines. \" Hey' we made it, so it's gotta be good, right?\" Not so fast Bucky. I know it takes a lot of hard work and money to even get a movie made, much less sold and distributed, and for that I commend these folks. But the final product, leave a bad taste in my mouth.<br /><br />P.S. I won a free rental and chose this movie from Blockbuster. Tomorrow I'm going to get my money back. ||  This review is _________<br /><br />\n",
            "Expected: Negative, Answer: \n",
            "// Renny Harlin's first American film was one of the best of a slew of prison-set horror films(like \"Death House\" or \"The Chair\")in the late 80's.Twenty years before,guard Lane Smith had wrongfully executed a condemned man.Now,he is the warden of the newly re-opened prison,and the man's ghost is back for bloody revenge.This atmospheric and very moody film features lots of gruesome gore and violence.Viggo Mortensen,Tiny Lister,Tom Everett and Kane Hodder are onhand for the entertaining carnage. || This review is Positive\n",
            "\n",
            "\n",
            "// Renny Harlin's first American film was one of the best of a slew of prison-set horror films(like \"Death House\" or \"The Chair\")in the late 80's.Twenty years before,guard Lane Smith had wrongfully executed a condemned man.Now,he is the warden of the newly re-opened prison,and the man's ghost is back for bloody revenge.This atmospheric and very moody film features lots of gruesome gore and violence.Viggo Mortensen,Tiny Lister,Tom Everett and Kane Hodder are onhand for the entertaining carnage. ||  This review is ____________ Sent via the Internet, www\n",
            "Expected: Positive, Answer: \n",
            "// I was also on hand for the premiere in Toronto. This film was sort of a consolation when I thought I wouldn't be able to get in to see my first choice. Well, I was totally blown away. By the time I got to the theater I could remember little other than the basic plot of the movie (yes, I actually forgot who was even in it.) Terrific performances from the entire cast. Carrie-Anne Moss was great in a true departure from her days as Trinity. As for Billy Connolly, I think not since Chaplin has an actor played so brilliantly with no lines what-so-ever. The kids were also great. Definitely check this one out if you get the chance.<br /><br />And, by the way, I got to see my first choice anyway- and this was way better. || This review is Positive\n",
            "\n",
            "\n",
            "// I was also on hand for the premiere in Toronto. This film was sort of a consolation when I thought I wouldn't be able to get in to see my first choice. Well, I was totally blown away. By the time I got to the theater I could remember little other than the basic plot of the movie (yes, I actually forgot who was even in it.) Terrific performances from the entire cast. Carrie-Anne Moss was great in a true departure from her days as Trinity. As for Billy Connolly, I think not since Chaplin has an actor played so brilliantly with no lines what-so-ever. The kids were also great. Definitely check this one out if you get the chance.<br /><br />And, by the way, I got to see my first choice anyway- and this was way better. ||  This review is ~~~a~~~for people who\n",
            "Expected: Positive, Answer: \n",
            "// America's next top model is a good show, it helps people with their careers, but lately i have become bored with it.<br /><br />cycle 1: yeah I'm happy Adrienne won, i wanted her to win from the beginning.<br /><br />cycle 2: its too bad, i think Mercedes deserved it.<br /><br />cycle 3: i did not like Eva, but i did not like most of the girls in this cycle.<br /><br />cycle 4: Kahlen should have won. i don't know what they saw in Naima, but i definitely know what they saw in Kahlen.<br /><br />cycle 5: like cycle 3, this was not a great cycle either. but out of all the girls, NICOLE as a winner? eww!<br /><br />cycle 6: i liked Sara and Joanie, but Danielle is okay too.<br /><br />cycle 7: Caridee definitely deserved it.<br /><br />cycle 8: no, i didn't want Jaslene to win. i didn't like her. i saw other girls in that cycle with definitely more potential than her, although i did not see much of this cycle.<br /><br />good show, I've just seen it too many times to like it much anymore :D || This review is Positive\n",
            "\n",
            "\n",
            "// America's next top model is a good show, it helps people with their careers, but lately i have become bored with it.<br /><br />cycle 1: yeah I'm happy Adrienne won, i wanted her to win from the beginning.<br /><br />cycle 2: its too bad, i think Mercedes deserved it.<br /><br />cycle 3: i did not like Eva, but i did not like most of the girls in this cycle.<br /><br />cycle 4: Kahlen should have won. i don't know what they saw in Naima, but i definitely know what they saw in Kahlen.<br /><br />cycle 5: like cycle 3, this was not a great cycle either. but out of all the girls, NICOLE as a winner? eww!<br /><br />cycle 6: i liked Sara and Joanie, but Danielle is okay too.<br /><br />cycle 7: Caridee definitely deserved it.<br /><br />cycle 8: no, i didn't want Jaslene to win. i didn't like her. i saw other girls in that cycle with definitely more potential than her, although i did not see much of this cycle.<br /><br />good show, I've just seen it too many times to like it much anymore :D ||  This review is __________ and does not constitute an endorsement\n",
            "Expected: Positive, Answer: \n",
            "// ... Once. \"Manos, the Hands of Fate.\" That was worse than this, quite a bit worse: but it did have one thing: it had beautiful women in negligees wresting each other -- for about 20 minutes. This has a fat 45 year-old with 3 tits and a tail, in a cantina scene cloned directly from \"Star Wars.\" Not to mention an obese, blue seductress Uhura, her fat legs and ass hanging out of some sort of insane bird costume, in this Method Acting Mess. She always wanted to perform before a \"captive audience\"? She must have meant the poor slobs who shelled out 8 bucks hoping to see another \"Wrath of Khan,\" or at least a \"Voyage Home.\" Captive\" is right. I wonder how many people in the theaters tried to slit their wrists while crying out: \"mother, make it stop.\"<br /><br />No question about it, \"Final Frontier\" is not just an unmitigated disaster, it's cruel and unusual punishment. This is Star Trek from hell. This is Shatner on mushrooms -- or maybe peyote. This is Where No Man Has Gone Before and Wished He Never Had in the First Place. Or, to paraphrase a review of \"Heaven's Gate: \"It's as if Gene Roddenberry sold his soul to the Devil for the success of a TV series, and Devil is just now coming around to collect.\"<br /><br />And don't even get me started on a drunken Kirk and a grinning McCoy singing \"Row, Row, Row Your Boat\" together, like they were lovers in some sort of demented gay fever dream. Then we've got the Hideous Dynamic Duo of Sulu and Chekov, hiking through the woods together... probably en route to a Barry Manilow concert. Then there's Laurence Luckinbill as Spock's brother???!!! Yeah, right! Amazing how these relations we never heard of suddenly crawl out of the woodwork when we need a new plot line. And not to forget Spock rocketing through the air after Kirk when he falls from a cliff in Yosemite. Sure. He catches up to Kirk and saves him ONE FOOT away from the ground. Where'd you get those nifty Rocket Shoes, Spock?! || This review is Negative\n",
            "\n",
            "\n",
            "// ... Once. \"Manos, the Hands of Fate.\" That was worse than this, quite a bit worse: but it did have one thing: it had beautiful women in negligees wresting each other -- for about 20 minutes. This has a fat 45 year-old with 3 tits and a tail, in a cantina scene cloned directly from \"Star Wars.\" Not to mention an obese, blue seductress Uhura, her fat legs and ass hanging out of some sort of insane bird costume, in this Method Acting Mess. She always wanted to perform before a \"captive audience\"? She must have meant the poor slobs who shelled out 8 bucks hoping to see another \"Wrath of Khan,\" or at least a \"Voyage Home.\" Captive\" is right. I wonder how many people in the theaters tried to slit their wrists while crying out: \"mother, make it stop.\"<br /><br />No question about it, \"Final Frontier\" is not just an unmitigated disaster, it's cruel and unusual punishment. This is Star Trek from hell. This is Shatner on mushrooms -- or maybe peyote. This is Where No Man Has Gone Before and Wished He Never Had in the First Place. Or, to paraphrase a review of \"Heaven's Gate: \"It's as if Gene Roddenberry sold his soul to the Devil for the success of a TV series, and Devil is just now coming around to collect.\"<br /><br />And don't even get me started on a drunken Kirk and a grinning McCoy singing \"Row, Row, Row Your Boat\" together, like they were lovers in some sort of demented gay fever dream. Then we've got the Hideous Dynamic Duo of Sulu and Chekov, hiking through the woods together... probably en route to a Barry Manilow concert. Then there's Laurence Luckinbill as Spock's brother???!!! Yeah, right! Amazing how these relations we never heard of suddenly crawl out of the woodwork when we need a new plot line. And not to forget Spock rocketing through the air after Kirk when he falls from a cliff in Yosemite. Sure. He catches up to Kirk and saves him ONE FOOT away from the ground. Where'd you get those nifty Rocket Shoes, Spock?! ||  This review is _________ by __________<|endoftext|>It\n",
            "Expected: Negative, Answer: \n",
            "// I was rather disappointed. The first Tetsuo made me an INSTANT Tsukamoto fan, from the first 5 mins of the film. It was fresh, innovative, and just.....different. I rather enjoy having a movie be in your face and push all those \"make you squirm\" buttons. Tetsuo did just that where for me, few movies can.<br /><br />For those of us who enjoy getting a breath of fresh air, those that appreciate those offbeat styles used that make indie films so worthwhile, Testuo II will likely be a disspointment. If your looking for that visceral \"HYPER-KINETIC\" feel of the first movie, skip this one, as thats all been stripped away. Tetsuo II is for some odd reason, just a typical Hollywood style action flick. I was rather confused. However, it's still worthwhile in my opinion for any die-hard Tsukamoto fan. || This review is Negative\n",
            "\n",
            "\n",
            "// I was rather disappointed. The first Tetsuo made me an INSTANT Tsukamoto fan, from the first 5 mins of the film. It was fresh, innovative, and just.....different. I rather enjoy having a movie be in your face and push all those \"make you squirm\" buttons. Tetsuo did just that where for me, few movies can.<br /><br />For those of us who enjoy getting a breath of fresh air, those that appreciate those offbeat styles used that make indie films so worthwhile, Testuo II will likely be a disspointment. If your looking for that visceral \"HYPER-KINETIC\" feel of the first movie, skip this one, as thats all been stripped away. Tetsuo II is for some odd reason, just a typical Hollywood style action flick. I was rather confused. However, it's still worthwhile in my opinion for any die-hard Tsukamoto fan. ||  This review is ____________ by _________________ on Aug\n",
            "Expected: Negative, Answer: \n",
            "// Well, well... Even if you're a fervent admirer of Lang's silent films, this early one - the first part of a two-part unfinished four-part serial(!) - will leave you in doubt about Fritz's narrative skills. (His directorial skills aren't that evident either, but here and there one senses his talent for building up atmosphere.) <br /><br />The pic's just pure juvenile nonsense, which wouldn't be half as bad, were it not for the long ponderous stretches in between the childish action scenes.<br /><br />But the whole affair almost gets by on its amiable innocence.<br /><br />4 out of 10 Inca treasures || This review is Negative\n",
            "\n",
            "\n",
            "// Well, well... Even if you're a fervent admirer of Lang's silent films, this early one - the first part of a two-part unfinished four-part serial(!) - will leave you in doubt about Fritz's narrative skills. (His directorial skills aren't that evident either, but here and there one senses his talent for building up atmosphere.) <br /><br />The pic's just pure juvenile nonsense, which wouldn't be half as bad, were it not for the long ponderous stretches in between the childish action scenes.<br /><br />But the whole affair almost gets by on its amiable innocence.<br /><br />4 out of 10 Inca treasures ||  This review is _________<br /><br />\n",
            "Expected: Negative, Answer: \n",
            "// I don't remember the last time I reacted to a performance as emotionally as I did to Justin Timberlake's in \"Edison.\" I got so emotional I wanted to scream in anguish, destroy the screen, readily accept the hopeless cries of nihilism. Timberlake is horribly miscast; in fact, casting him is like casting Andy Dick to play the lead role in \"Patton,\" or Nathan Lane to play Jesus. But that is almost beside the point.<br /><br />Timberlake is simply a bad actor and he would be equally terrible in any role. I used to have problems with Ben Affleck's acting talent, but Timberlake makes Affleck look like Sir Ian McKellen or Dame Judi Dench. With his metrosexual lisp (read lithp), his boyish glances and emotional expressions which derive from something like \"The 25 Cliché Expressions for Actors,\" he poisons the screen upon which he is inflicted mercilessly, and no matter how you slice it, I do not and will not buy his role as an amateur-turned-crusader-for-justice journalist. It simply will not fly.<br /><br />However, Timberlake alone isn't to blame for his failure. Director David J. Burke puts him not only in the (essentially) primary role, but also places him aside Morgan Freeman, Kevin Spacey, John Heard, Dylan McDermott, Cary Elwes and (I'm surprised he was as good) LL Cool J. I can imagine one almost physically suffering watching some of this cast interact with Timberlake.<br /><br />There is an upside to this of course: the moment any of these actors interact without Justin there it feels like a double relief. A pleasure, if you will. Freeman and Spacey may not have more than 10 minutes of screen time alone together, but that ten minutes is blissful in contrast to their scenes with our so-called hero. Dylan McDermott is also a breath of fresh air.<br /><br />But enough of Timberlake bashing - words aren't enough in this particular case to do the trick. \"Edison\" is a very, very run-of-the-mill corruption story. It's plot ranges from cliché to simply preposterous. I do, however, admire the motivation behind making it, which I interpret as an homage to films like \"Serpico,\" or \"Donnie Brasco,\" or maybe even \"Chinatown.\" Don't get me wrong - \"Edison\" is not even in the same ballpark as these films, but I can stretch my suspension of disbelief to admire its reason for existence, perhaps to justify my sitting through it.<br /><br />The script, in and of itself, features some surprisingly bad writing. Yes, it has some decent interchanges, but any conversation between Piper Perabo (who is wasted here) and Timberlake seems like it was lifted straight out of a Dawson's Creek episode. It's your typical far-too-glib-for-reality, let's-impress-the-audience-with-how-well-we-articulate (and fail) dialogue. This dialogue, mind you, is punctuated by great music at the wrong moments - sometimes it feels like \"Edison\" wants to morph into a music video, where the emotion of the scene is not communicated through acting, but precisely through the badly chosen music and variant film speeds (read slow-motion).<br /><br />Thinking about it, \"Edison\" is a curiosity. It's sure as hell got a cast to kill for but the performances are marred by Timberlake who simply doesn't work. In film as in most art, if one thing is off, the whole thing feels off. Directors must make tough choices. David J. Burke missed the mark here. Some of the scenes play well in and of themselves, but as a whole, they don't seem to fit like puzzle pieces from different puzzles forced into one incoherent picture. And it's not particularly an exciting puzzle to begin with. || This review is Negative\n",
            "\n",
            "\n",
            "// I don't remember the last time I reacted to a performance as emotionally as I did to Justin Timberlake's in \"Edison.\" I got so emotional I wanted to scream in anguish, destroy the screen, readily accept the hopeless cries of nihilism. Timberlake is horribly miscast; in fact, casting him is like casting Andy Dick to play the lead role in \"Patton,\" or Nathan Lane to play Jesus. But that is almost beside the point.<br /><br />Timberlake is simply a bad actor and he would be equally terrible in any role. I used to have problems with Ben Affleck's acting talent, but Timberlake makes Affleck look like Sir Ian McKellen or Dame Judi Dench. With his metrosexual lisp (read lithp), his boyish glances and emotional expressions which derive from something like \"The 25 Cliché Expressions for Actors,\" he poisons the screen upon which he is inflicted mercilessly, and no matter how you slice it, I do not and will not buy his role as an amateur-turned-crusader-for-justice journalist. It simply will not fly.<br /><br />However, Timberlake alone isn't to blame for his failure. Director David J. Burke puts him not only in the (essentially) primary role, but also places him aside Morgan Freeman, Kevin Spacey, John Heard, Dylan McDermott, Cary Elwes and (I'm surprised he was as good) LL Cool J. I can imagine one almost physically suffering watching some of this cast interact with Timberlake.<br /><br />There is an upside to this of course: the moment any of these actors interact without Justin there it feels like a double relief. A pleasure, if you will. Freeman and Spacey may not have more than 10 minutes of screen time alone together, but that ten minutes is blissful in contrast to their scenes with our so-called hero. Dylan McDermott is also a breath of fresh air.<br /><br />But enough of Timberlake bashing - words aren't enough in this particular case to do the trick. \"Edison\" is a very, very run-of-the-mill corruption story. It's plot ranges from cliché to simply preposterous. I do, however, admire the motivation behind making it, which I interpret as an homage to films like \"Serpico,\" or \"Donnie Brasco,\" or maybe even \"Chinatown.\" Don't get me wrong - \"Edison\" is not even in the same ballpark as these films, but I can stretch my suspension of disbelief to admire its reason for existence, perhaps to justify my sitting through it.<br /><br />The script, in and of itself, features some surprisingly bad writing. Yes, it has some decent interchanges, but any conversation between Piper Perabo (who is wasted here) and Timberlake seems like it was lifted straight out of a Dawson's Creek episode. It's your typical far-too-glib-for-reality, let's-impress-the-audience-with-how-well-we-articulate (and fail) dialogue. This dialogue, mind you, is punctuated by great music at the wrong moments - sometimes it feels like \"Edison\" wants to morph into a music video, where the emotion of the scene is not communicated through acting, but precisely through the badly chosen music and variant film speeds (read slow-motion).<br /><br />Thinking about it, \"Edison\" is a curiosity. It's sure as hell got a cast to kill for but the performances are marred by Timberlake who simply doesn't work. In film as in most art, if one thing is off, the whole thing feels off. Directors must make tough choices. David J. Burke missed the mark here. Some of the scenes play well in and of themselves, but as a whole, they don't seem to fit like puzzle pieces from different puzzles forced into one incoherent picture. And it's not particularly an exciting puzzle to begin with. ||  This review is __________ by _________. ||\n",
            "Expected: Negative, Answer: \n",
            "// I would have to say that in general Barbie Movies have impressed me. I have a 5 year old Barbie fanatic niece and she watches them all the time so needless to say I have seen quite a lot of Barbie these holidays, but I am not sick of them.<br /><br />This film, visually, has a lot to offer, especially the backgrounds, and the animation of the characters has improved with each new movie. One thing I noticed in particular was a vast improvement in the animation of Barbie's hair in this film. It has a lovely range of excerpts from classical music and I think that this is great, as it exposes a new generation to the classics. This film is well worth ago, especially if you have young relievers. They will be entertained for hours! || This review is Positive\n",
            "\n",
            "\n",
            "// I would have to say that in general Barbie Movies have impressed me. I have a 5 year old Barbie fanatic niece and she watches them all the time so needless to say I have seen quite a lot of Barbie these holidays, but I am not sick of them.<br /><br />This film, visually, has a lot to offer, especially the backgrounds, and the animation of the characters has improved with each new movie. One thing I noticed in particular was a vast improvement in the animation of Barbie's hair in this film. It has a lovely range of excerpts from classical music and I think that this is great, as it exposes a new generation to the classics. This film is well worth ago, especially if you have young relievers. They will be entertained for hours! ||  This review is _________<br /><br />\n",
            "Expected: Positive, Answer: \n",
            "// Seeing this movie always reminds me of what I remember summer being like, God! such a long time ago. The entire scene involving the \"overnight\", from the canoe procession to the end of the trip, is precious, and Tripper's story about the homicidal maniac is urban legend right out of my youth. A highly entertaining movie, made many times better by the awful sequels that followed. || This review is Positive\n",
            "\n",
            "\n",
            "// Seeing this movie always reminds me of what I remember summer being like, God! such a long time ago. The entire scene involving the \"overnight\", from the canoe procession to the end of the trip, is precious, and Tripper's story about the homicidal maniac is urban legend right out of my youth. A highly entertaining movie, made many times better by the awful sequels that followed. ||  This review is ____ of the movie \"Night of the\n",
            "Expected: Positive, Answer: \n",
            "// I love the book. It's full of passion, romance, tension... and the movie drags along taking two spunky stars with it. Kylie Minogue was already a major star in Australia, having starred in Neighbours and releasing her first single. The decision to cast her in The Delinquents was surely a marketing ploy. For me, it didn't pay off.<br /><br />Kylie may have been great in Neighbours, but she was far too sweet and innocent to play the feisty Lola... and, she wasn't of Asian descent as Lola was. Charlie Schlatter was an excellent Brownie, but there was no chemistry between him and Kylie.<br /><br />By and large, the movie was boring. It dragged on, it lacked the passion of the book, it focused heavily on Kylie and in general, was completely disappointing. || This review is Negative\n",
            "\n",
            "\n",
            "// I love the book. It's full of passion, romance, tension... and the movie drags along taking two spunky stars with it. Kylie Minogue was already a major star in Australia, having starred in Neighbours and releasing her first single. The decision to cast her in The Delinquents was surely a marketing ploy. For me, it didn't pay off.<br /><br />Kylie may have been great in Neighbours, but she was far too sweet and innocent to play the feisty Lola... and, she wasn't of Asian descent as Lola was. Charlie Schlatter was an excellent Brownie, but there was no chemistry between him and Kylie.<br /><br />By and large, the movie was boring. It dragged on, it lacked the passion of the book, it focused heavily on Kylie and in general, was completely disappointing. ||  This review is _________ I was going to give it\n",
            "Expected: Negative, Answer: \n",
            "// I could never stand watching Happy Days after Chachi joined the cast, so I knew I was in trouble when the best scene in this movie featured Scott Baio (a skateboard chase scene!). Jodie Foster in her first \"grown-up\" role turns in her usual professional performance but that is no excuse for this boring mess. Two hours out of my life that I'll never get back! No noteworthy characters, unbelievable storyline, questionable editing and horrendous cinematography but worst of all, I couldn't have cared less. The story of California teens in the 1970's, where the kids live miserable lives and all their parents are idiots. Don't waste your time watching this ugly excuse for a movie. || This review is Negative\n",
            "\n",
            "\n",
            "// I could never stand watching Happy Days after Chachi joined the cast, so I knew I was in trouble when the best scene in this movie featured Scott Baio (a skateboard chase scene!). Jodie Foster in her first \"grown-up\" role turns in her usual professional performance but that is no excuse for this boring mess. Two hours out of my life that I'll never get back! No noteworthy characters, unbelievable storyline, questionable editing and horrendous cinematography but worst of all, I couldn't have cared less. The story of California teens in the 1970's, where the kids live miserable lives and all their parents are idiots. Don't waste your time watching this ugly excuse for a movie. ||  This review is __________________ Last edited by JonnyB\n",
            "Expected: Negative, Answer: \n",
            "// I have always loved Brenda Blethyn and \"Undertaking Betty\" was no disappointment. I saw it on Satellite on dreary Sunday morning. Life has been stressful and this movie made me laugh and see things we usually consider dire in a mirthful way. I wish she would make more movies like this and \"Saving Grace.\" Brenda Blethyn is a great gal for us approaching 60 to see in action. She is cute, beautiful and full of life without appearing plastic and phony. Not many actresses are out there for us to relate to in a realistic, yet comical and/or serious way. Brenda - if you see this - keep going with gems like this. We need more Mrs. Bennetts, Bettys and Graces. || This review is Positive\n",
            "\n",
            "\n",
            "// I have always loved Brenda Blethyn and \"Undertaking Betty\" was no disappointment. I saw it on Satellite on dreary Sunday morning. Life has been stressful and this movie made me laugh and see things we usually consider dire in a mirthful way. I wish she would make more movies like this and \"Saving Grace.\" Brenda Blethyn is a great gal for us approaching 60 to see in action. She is cute, beautiful and full of life without appearing plastic and phony. Not many actresses are out there for us to relate to in a realistic, yet comical and/or serious way. Brenda - if you see this - keep going with gems like this. We need more Mrs. Bennetts, Bettys and Graces. ||  This review is ~~very~~ long. I have read\n",
            "Expected: Positive, Answer: \n",
            "// I actually first watched One Dark Night in the theater & wrote a review of the film for my high school newspaper. I loved it then & I still love it. The storyline revolves around two people. First of all one woman learns that her father has telekenisis after his death. She then has feelings herself about the strange powers of her father even in his death. The mauseleum he's buried in plays host to the other main person, a high school girl doing anything to get in with a group of girls that just want to torment her & dare her to stay in the mauseleum all night to join their group. They go back in the night to scare her & find scares for themselves. The cast is led by Meg Tilly with supporting roles by Adam West and one of my personal favorites Elizabeth Daily aka E.G. Daily. Check this one out if you love 80's movies & cheesy horror movies, you won't be disatisfied. || This review is Positive\n",
            "\n",
            "\n",
            "// I actually first watched One Dark Night in the theater & wrote a review of the film for my high school newspaper. I loved it then & I still love it. The storyline revolves around two people. First of all one woman learns that her father has telekenisis after his death. She then has feelings herself about the strange powers of her father even in his death. The mauseleum he's buried in plays host to the other main person, a high school girl doing anything to get in with a group of girls that just want to torment her & dare her to stay in the mauseleum all night to join their group. They go back in the night to scare her & find scares for themselves. The cast is led by Meg Tilly with supporting roles by Adam West and one of my personal favorites Elizabeth Daily aka E.G. Daily. Check this one out if you love 80's movies & cheesy horror movies, you won't be disatisfied. ||  This review is __________\n",
            "This movie is full of\n",
            "Expected: Positive, Answer: \n",
            "// I found this movie really hard to sit through, my attention kept wandering off the tv. As far as romantic movies go..this one is the worst I've seen. Don't bother with it. || This review is Negative\n",
            "\n",
            "\n",
            "// I found this movie really hard to sit through, my attention kept wandering off the tv. As far as romantic movies go..this one is the worst I've seen. Don't bother with it. ||  This review is __________ || \n",
            "\n",
            "Wasn\n",
            "Expected: Negative, Answer: \n",
            "// Opening with some blatantly reused footage from 'Kit for Cat', 'Tweety's S.O.S' fails to live up to that classic cartoon. Instead, we get an example of Friz Freleng's Tweety and Sylvester series at its most generic. Unlike Chuck Jones's Road Runner series, which strived to introduce new jokes to the same setting, Freleng's series seemed happy enough to recycle jokes as long as the characters were in a different place. 'Tweety's S.O.S', then, basically amounts to \"this time let's put 'em on a boat\". It's not an entirely weak cartoon. There are a few good jokes, mostly involving Granny's glasses, but they are outweighed by gags you can see coming a mile off (the seasickness routine) and it all builds to another of those endings where someone else other than Tweety says \"I tawt I taw a putty tat\", a joke that worked well once but has diminishing returns. 'Tweety's S.O.S' will probably please children who enjoy virtually any cartoon but for big kids like me who are looking for more than the same tired gags it's definitely one to avoid. || This review is Negative\n",
            "\n",
            "\n",
            "// Opening with some blatantly reused footage from 'Kit for Cat', 'Tweety's S.O.S' fails to live up to that classic cartoon. Instead, we get an example of Friz Freleng's Tweety and Sylvester series at its most generic. Unlike Chuck Jones's Road Runner series, which strived to introduce new jokes to the same setting, Freleng's series seemed happy enough to recycle jokes as long as the characters were in a different place. 'Tweety's S.O.S', then, basically amounts to \"this time let's put 'em on a boat\". It's not an entirely weak cartoon. There are a few good jokes, mostly involving Granny's glasses, but they are outweighed by gags you can see coming a mile off (the seasickness routine) and it all builds to another of those endings where someone else other than Tweety says \"I tawt I taw a putty tat\", a joke that worked well once but has diminishing returns. 'Tweety's S.O.S' will probably please children who enjoy virtually any cartoon but for big kids like me who are looking for more than the same tired gags it's definitely one to avoid. ||  This review is _____________ by _________. || I\n",
            "Expected: Negative, Answer: \n",
            "// 1939 is universally accepted as the greatest year in Hollywood history, with more classic films released than in any other, and John Ford directed three of the best, \"Stagecoach\", \"Drums Along the Mohawk\", and this beautiful homage to frontier days and a young backwoods lawyer destined to eventually save the Union, \"Young Mr. Lincoln\".<br /><br />With the world plunging into a war that America dreaded, but knew it would be drawn into, Abraham Lincoln was much on people's minds, in 1939, as someone who had faced the same dilemma in his own life, and had triumphed. On Broadway, Robert E. Sherwood's award-winning \"Abe Lincoln in Illinois\", with Raymond Massey's physically dead-on portrayal, was playing to packed houses (it would be filmed in 1940). Carl Sandburg's continuation of his epic biography, \"Abraham Lincoln: The War Years\", was published, and quickly became a best seller. President Roosevelt frequently referred to Lincoln in speeches, and the Lincoln Memorial, in Washington, D.C., became the most popular landmark in town (a fact that Frank Capra made good use of, in \"Mr. Smith Goes to Washington\").<br /><br />All this was not lost on Darryl F. Zanuck, at 20th Century Fox; as soon as he read Lamar Trotti's screenplay of Lincoln's early days as a lawyer, he designated it a 'prestige' production, and assigned John Ford to direct, and Henry Fonda, to star.<br /><br />Fonda did NOT want to play Lincoln; he felt he couldn't do justice to the 'Great Emancipator', and feared a bad performance would damage his career. Even a filmed make-up test, in which he was stunned by how much he would resemble Lincoln, wouldn't change his mind. According to Fonda, John Ford, whom he'd never worked with, cussed him out royally, at their first meeting, and explained he wasn't portraying the Lincoln of Legend, but a young \"jackanape\" country lawyer facing his first murder trial. Humbled, Fonda took the role. (John Ford offered a different scenario of the events, but the outcome was the same!) Obviously, they found a chemistry together that worked, as nearly all of their pairings would produce 'classics'.<br /><br />Unlike the introverted, melancholia-racked Lincoln of \"Abe Lincoln in Illinois\", Ford's vision was that of a shy but likable young attorney, who made friends easily, and misses the mother he lost, too young (resulting in a bond with a pioneer mother that becomes a vital part of the story). Injustice riles him, and he speaks 'common sense' to quell violence, interlaced with doses of humor. Both productions play on Lincoln's (undocumented) relationship with Ann Rutledge; in Ford's version, the pair are truly in love, and committed to each other. After her death, Lincoln would frequently visit her grave, to share his life with her 'spirit' (a theme Ford would continue in \"She Wore a Yellow Ribbon\").<br /><br />A murder trial is the centerpiece of the film, and shows the prodigious talents of the star and director. Fonda deftly portrays Lincoln's inexperience, yet earnest belief in justice tempered with mercy, and Ford emphasizes the gulf between the big-city 'intellectuals' (represented by pompous D.A. Donald Meek, and his slick 'advisor', Stephen Douglas, played by a young Milburn Stone), and the informal, rule-bending country sense of Lincoln. With Ford 'regular' Ward Bond as a key witness, the trial is both unconventional, and riveting.<br /><br />With the film closing as Lincoln strides away into the stormy distance, and his destiny (dissolving into a view of the statue at the Lincoln Memorial), audiences could take comfort in the film's message that if a cause is just, good would ultimately triumph.<br /><br />\"Young Mr. Lincoln\" is a truly remarkable film, from an amazing year! || This review is Positive\n",
            "\n",
            "\n",
            "// 1939 is universally accepted as the greatest year in Hollywood history, with more classic films released than in any other, and John Ford directed three of the best, \"Stagecoach\", \"Drums Along the Mohawk\", and this beautiful homage to frontier days and a young backwoods lawyer destined to eventually save the Union, \"Young Mr. Lincoln\".<br /><br />With the world plunging into a war that America dreaded, but knew it would be drawn into, Abraham Lincoln was much on people's minds, in 1939, as someone who had faced the same dilemma in his own life, and had triumphed. On Broadway, Robert E. Sherwood's award-winning \"Abe Lincoln in Illinois\", with Raymond Massey's physically dead-on portrayal, was playing to packed houses (it would be filmed in 1940). Carl Sandburg's continuation of his epic biography, \"Abraham Lincoln: The War Years\", was published, and quickly became a best seller. President Roosevelt frequently referred to Lincoln in speeches, and the Lincoln Memorial, in Washington, D.C., became the most popular landmark in town (a fact that Frank Capra made good use of, in \"Mr. Smith Goes to Washington\").<br /><br />All this was not lost on Darryl F. Zanuck, at 20th Century Fox; as soon as he read Lamar Trotti's screenplay of Lincoln's early days as a lawyer, he designated it a 'prestige' production, and assigned John Ford to direct, and Henry Fonda, to star.<br /><br />Fonda did NOT want to play Lincoln; he felt he couldn't do justice to the 'Great Emancipator', and feared a bad performance would damage his career. Even a filmed make-up test, in which he was stunned by how much he would resemble Lincoln, wouldn't change his mind. According to Fonda, John Ford, whom he'd never worked with, cussed him out royally, at their first meeting, and explained he wasn't portraying the Lincoln of Legend, but a young \"jackanape\" country lawyer facing his first murder trial. Humbled, Fonda took the role. (John Ford offered a different scenario of the events, but the outcome was the same!) Obviously, they found a chemistry together that worked, as nearly all of their pairings would produce 'classics'.<br /><br />Unlike the introverted, melancholia-racked Lincoln of \"Abe Lincoln in Illinois\", Ford's vision was that of a shy but likable young attorney, who made friends easily, and misses the mother he lost, too young (resulting in a bond with a pioneer mother that becomes a vital part of the story). Injustice riles him, and he speaks 'common sense' to quell violence, interlaced with doses of humor. Both productions play on Lincoln's (undocumented) relationship with Ann Rutledge; in Ford's version, the pair are truly in love, and committed to each other. After her death, Lincoln would frequently visit her grave, to share his life with her 'spirit' (a theme Ford would continue in \"She Wore a Yellow Ribbon\").<br /><br />A murder trial is the centerpiece of the film, and shows the prodigious talents of the star and director. Fonda deftly portrays Lincoln's inexperience, yet earnest belief in justice tempered with mercy, and Ford emphasizes the gulf between the big-city 'intellectuals' (represented by pompous D.A. Donald Meek, and his slick 'advisor', Stephen Douglas, played by a young Milburn Stone), and the informal, rule-bending country sense of Lincoln. With Ford 'regular' Ward Bond as a key witness, the trial is both unconventional, and riveting.<br /><br />With the film closing as Lincoln strides away into the stormy distance, and his destiny (dissolving into a view of the statue at the Lincoln Memorial), audiences could take comfort in the film's message that if a cause is just, good would ultimately triumph.<br /><br />\"Young Mr. Lincoln\" is a truly remarkable film, from an amazing year! ||  This review is __________________\n",
            "\n",
            "\"A man who\n",
            "Expected: Positive, Answer: \n",
            "// Firstly, I am a huge fan of crap films. B grade is always good for a laugh. Unfortunately this film is just plain bad. I dressed up as a Zombie for a party and my make up looked better than the ones in this film. Especially the big guy at the beginning, it just looked like a kid had drawn on his face with crayons.<br /><br />The acting is so bad I need not comment on why. The effect are also extremely amateurish, with obvious blood tubes firing a straight jet of blood out the back of zombies heads when they get shot. <br /><br />It also seems many people commenting on this movie are trying to boost the rating. Nobody without their finger in the pie would rate this film above a 5/10. Frankly it is disgraceful that people who worked on this film are boosting their own ratings.<br /><br />I suggest everyone avoid this movie, it isn't worth wasting the 90 minutes of your life.<br /><br />Absolutely awful. || This review is Negative\n",
            "\n",
            "\n"
          ],
          "name": "stdout"
        }
      ]
    },
    {
      "cell_type": "code",
      "metadata": {
        "id": "BSwf-KiZIYgP"
      },
      "source": [
        "def interact_model(\n",
        "    model_name,\n",
        "    seed,\n",
        "    nsamples,\n",
        "    batch_size,\n",
        "    length,\n",
        "    temperature,\n",
        "    top_k,\n",
        "    models_dir\n",
        "):\n",
        "    models_dir = os.path.expanduser(os.path.expandvars(models_dir))\n",
        "    if batch_size is None:\n",
        "        batch_size = 1\n",
        "    assert nsamples % batch_size == 0\n",
        "\n",
        "    enc = encoder.get_encoder(model_name, models_dir)\n",
        "    hparams = model.default_hparams()\n",
        "    with open(os.path.join(models_dir, model_name, 'hparams.json')) as f:\n",
        "        hparams.override_from_dict(json.load(f))\n",
        "\n",
        "    if length is None:\n",
        "        length = hparams.n_ctx // 2\n",
        "    elif length > hparams.n_ctx:\n",
        "        raise ValueError(\"Can't get samples longer than window size: %s\" % hparams.n_ctx)\n",
        "\n",
        "    with tf.Session(graph=tf.Graph()) as sess:\n",
        "        context = tf.placeholder(tf.int32, [batch_size, None])\n",
        "        np.random.seed(seed)\n",
        "        tf.set_random_seed(seed)\n",
        "        output = sample.sample_sequence(\n",
        "            hparams=hparams, length=length,\n",
        "            context=context,\n",
        "            batch_size=batch_size,\n",
        "            temperature=temperature, top_k=top_k\n",
        "        )\n",
        "\n",
        "        saver = tf.train.Saver()\n",
        "        ckpt = tf.train.latest_checkpoint(os.path.join(models_dir, model_name))\n",
        "        saver.restore(sess, ckpt)\n",
        "\n",
        "#        while True:\n",
        "#            raw_text = input(\"Model prompt >>> \")\n",
        "#            while not raw_text:\n",
        "#                print('Prompt should not be empty!')\n",
        "#                raw_text = input(\"Model prompt >>> \")\n",
        "#            context_tokens = enc.encode(raw_text)\n",
        "#            generated = 0\n",
        "#            for _ in range(nsamples // batch_size):\n",
        "#                out = sess.run(output, feed_dict={\n",
        "#                    context: [context_tokens for _ in range(batch_size)]\n",
        "#                })[:, len(context_tokens):]\n",
        "#                for i in range(batch_size):\n",
        "#                    generated += 1\n",
        "#                    text = enc.decode(out[i])\n",
        "#                    print(\"=\" * 40 + \" SAMPLE \" + str(generated) + \" \" + \"=\" * 40)\n",
        "#                    print(text)\n",
        "#            print(\"=\" * 80)\n",
        "        n_tests = 5000\n",
        "        correct = 0\n",
        "        for element in test:\n",
        "          split = element.split(\"||  This review is\")\n",
        "          input = split[0].strip()\n",
        "          #print(input + \"\\n\")\n",
        "          input = input + \" ||  This review is \"\n",
        "          print(input + \"\\n\")\n",
        "          expected_output = split[1].strip()\n",
        "          context_tokens = enc.encode(input)\n",
        "          #due to a bug https://github.com/minimaxir/gpt-2-simple/issues/38\n",
        "          #long long reviews are excluded\n",
        "          try: \n",
        "            for _ in range(nsamples // batch_size):\n",
        "                out = sess.run(output, feed_dict={\n",
        "                    context: [context_tokens for _ in range(batch_size)]\n",
        "                })[:, len(context_tokens):]\n",
        "                for i in range(batch_size):\n",
        "                    text = enc.decode(out[i])\n",
        "                    print(\"Expected: \" + expected_output + \", Answer: \" + text + \"\\n\")\n",
        "                    if (text.casefold() == expected_output.casefold()):\n",
        "                      correct = correct + 1\n",
        "          except:\n",
        "            print(\"-------------- too long -------------\")\n",
        "            n_tests = n_tests - 1\n",
        "        print(\"Correct \" + str(correct) + \" out of\" + str(n_tests) + \"\\n\")"
      ],
      "execution_count": null,
      "outputs": []
    },
    {
      "cell_type": "code",
      "metadata": {
        "id": "icmzw6w8I3EI"
      },
      "source": [
        "#Test\n",
        "!ls\n",
        "interact_model(\n",
        "    'run1',\n",
        "    None,\n",
        "    1,\n",
        "    1,\n",
        "    2,\n",
        "    1,\n",
        "    0,\n",
        "    './checkpoint'\n",
        ")"
      ],
      "execution_count": null,
      "outputs": []
    }
  ]
}