{
  "nbformat": 4,
  "nbformat_minor": 0,
  "metadata": {
    "colab": {
      "name": "Project_ML-SII.ipynb",
      "provenance": [],
      "collapsed_sections": [],
      "authorship_tag": "ABX9TyNMAVrQvyS9oC0WQRO8oNMS"
    },
    "kernelspec": {
      "name": "python3",
      "display_name": "Python 3"
    },
    "language_info": {
      "name": "python"
    }
  },
  "cells": [
    {
      "cell_type": "markdown",
      "metadata": {
        "id": "FfL0suZS1N_O"
      },
      "source": [
        "# **Installing Libraries**\n",
        "\n",
        "\n",
        "*   transformers (BertTokenizer, TFBertForSequenceClassification, InputExample, InputFeatures)\n",
        "*   tensorflow\n",
        "*   pandas\n",
        "\n"
      ]
    },
    {
      "cell_type": "code",
      "metadata": {
        "id": "tjriDAo-1Tvr"
      },
      "source": [
        "pip install transformers"
      ],
      "execution_count": null,
      "outputs": []
    },
    {
      "cell_type": "code",
      "metadata": {
        "id": "DpwMoc2l8NTv"
      },
      "source": [
        "from transformers import BertTokenizer, TFBertForSequenceClassification\n",
        "from transformers import InputExample, InputFeatures\n",
        "import tensorflow as tf\n",
        "import pandas as pd"
      ],
      "execution_count": null,
      "outputs": []
    },
    {
      "cell_type": "markdown",
      "metadata": {
        "id": "qh1Fzhy31Z09"
      },
      "source": [
        "# **Import Dataset**\n",
        "(Stanford Repository https://ai.stanford.edu/~amaas/data/sentiment/aclImdb_v1.tar.gz)\n",
        "\n",
        "\n",
        "*   Download Repository\n",
        "*   Remove unlabeled data \n",
        "*   Merge Pos/Neg directories & Label data\n",
        "*   Split train-validation-test set\n",
        "\n"
      ]
    },
    {
      "cell_type": "code",
      "metadata": {
        "id": "fn8byQ3cys9u"
      },
      "source": [
        "#dataset = tf.keras.utils.get_file(...)\n",
        "#tf.keras.preprocessing.text_dataset_from_directory(...)"
      ],
      "execution_count": null,
      "outputs": []
    },
    {
      "cell_type": "markdown",
      "metadata": {
        "id": "zfi6FeGe5uUP"
      },
      "source": [
        "# **Preprocessing Data**\n",
        "* other preprocessing on data\n",
        "* convert to InputExample\n",
        "* convert to BERT tokens"
      ]
    },
    {
      "cell_type": "code",
      "metadata": {
        "id": "JUtO7bS07iqo"
      },
      "source": [
        "#tokenizer = BertTokenizer.from_pretrained(\"bert-base-uncased\")\n",
        "# data -> ImputExample \n",
        "#tokenizer.encode_plus(...)"
      ],
      "execution_count": null,
      "outputs": []
    },
    {
      "cell_type": "markdown",
      "metadata": {
        "id": "5WALyDjv7hwx"
      },
      "source": [
        "# **Setting up BERT**"
      ]
    },
    {
      "cell_type": "code",
      "metadata": {
        "id": "rnm7xtpt7jMu"
      },
      "source": [
        "#model = TFBertForSequenceClassification.from_pretrained(\"bert-base-uncased\")"
      ],
      "execution_count": null,
      "outputs": []
    },
    {
      "cell_type": "markdown",
      "metadata": {
        "id": "9VhFdeoL76An"
      },
      "source": [
        "# **Training**\n",
        "-> IMPORTANTE: Runtime -> Cambia tipo di runtime -> GPU"
      ]
    },
    {
      "cell_type": "code",
      "metadata": {
        "id": "H1-dYLQv8FJP"
      },
      "source": [
        "#model.compile(optimizer=tf.keras.optimizers.Adam(...), loss=tf.keras.losses.....(...), metrics=[tf.keras.metrics.....(...)]) \n",
        "#ATTENZIONE alla scelta di loss e metric \n",
        "\n",
        "#model.fit(train_data, epochs=....., validation_data=validation_data)"
      ],
      "execution_count": null,
      "outputs": []
    },
    {
      "cell_type": "markdown",
      "metadata": {
        "id": "kXU1LrgA8FT3"
      },
      "source": [
        "# **Testing**"
      ]
    },
    {
      "cell_type": "code",
      "metadata": {
        "id": "HJOoHAgP8IPQ"
      },
      "source": [
        ""
      ],
      "execution_count": null,
      "outputs": []
    },
    {
      "cell_type": "markdown",
      "metadata": {
        "id": "dtWpQ7UIYSim"
      },
      "source": [
        "# **ALTRI**\n",
        "\n",
        "-> MAIN REFERENCE\n",
        "\n",
        "https://towardsdatascience.com/sentiment-analysis-in-10-minutes-with-bert-and-hugging-face-294e8a04b671\n",
        "\n",
        "-> BERT\n",
        "\n",
        "https://www.tensorflow.org/tutorials/text/classify_text_with_bert\n",
        "\n",
        "-> PYTORCH \n",
        "\n",
        "https://www.kaggle.com/alankritamishra/covid-19-tweet-sentiment-analysis\n",
        "\n",
        "https://www.kaggle.com/abhishek/text-extraction-using-bert-w-sentiment-inference/data\n",
        "\n",
        "https://github.com/chriskhanhtran/bert-for-sentiment-analysis\n",
        "\n",
        "-> KERAS\n",
        "\n",
        "https://www.kaggle.com/chiranjeevbit/movie-review-prediction\n",
        "\n",
        "-> CODICE + TEORIA + REFERENCES\n",
        "\n",
        "https://medium.com/atheros/text-classification-with-transformers-in-tensorflow-2-bert-2f4f16eff5ad\n",
        "\n",
        "https://colab.research.google.com/drive/1934Mm2cwSSfT5bvi78-AExAl-hSfxCbq\n",
        "\n",
        "https://kaijuneer.medium.com/fine-tuning-tensorflow-bert-model-for-sentiment-analysis-1119fd6bef49\n",
        "\n",
        "https://www.geeksforgeeks.org/sentiment-classification-using-bert/\n",
        "\n",
        "-> OTHER/ da vedere se utile\n",
        "\n",
        "https://github.com/duyunshu/bert-sentiment-analysis/blob/master/BERT_analysis.ipynb\n"
      ]
    },
    {
      "cell_type": "markdown",
      "metadata": {
        "id": "UR9IkoYpOQda"
      },
      "source": [
        "# **TO DO**\n",
        "\n",
        "\n",
        "*   **ANALISI FINALI DEL MODELLO:**\n",
        "\n",
        "\n",
        "\n",
        "> 1. Binary Accuracy\n",
        "2. Precision/Recall (e F1-score?)\n",
        "3. Confusion Matrix\n",
        "4. ROC Curve\n",
        "\n",
        "*   **DA INSERIRE NEL REPORT:**\n",
        "\n",
        "\n",
        "\n",
        "> 1. Struttura BERT \n",
        "2. Schema del modello/sequenza di operazioni\n",
        "3. Grafici loss/accuracy\n",
        "4. Analisi finali al punto precedente\n",
        "5. Tabella riassuntiva \n",
        "\n",
        "\n",
        "\n",
        "\n",
        "\n",
        "\n",
        "\n",
        "\n",
        "\n",
        "\n",
        "\n",
        "\n",
        "\n",
        "\n"
      ]
    }
  ]
}